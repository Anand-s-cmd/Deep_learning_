{
  "cells": [
    {
      "cell_type": "code",
      "execution_count": 1,
      "metadata": {
        "id": "FjJtJsWj2dyu",
        "outputId": "8b980391-1cba-485f-c556-c464bf57939d",
        "colab": {
          "base_uri": "https://localhost:8080/"
        }
      },
      "outputs": [
        {
          "output_type": "stream",
          "name": "stdout",
          "text": [
            "User Current Version:- 3.7.13 (default, Apr 24 2022, 01:04:09) \n",
            "[GCC 7.5.0]\n"
          ]
        }
      ],
      "source": [
        "\n",
        "import sys\n",
        "  \n",
        "  \n",
        "print(\"User Current Version:-\", sys.version)"
      ]
    },
    {
      "cell_type": "markdown",
      "metadata": {
        "id": "cymcL2QI2dyy"
      },
      "source": [
        "# What is PyTorch?"
      ]
    },
    {
      "cell_type": "markdown",
      "metadata": {
        "id": "b9QboBXT2dy2"
      },
      "source": [
        "<img src=\"https://github.com/Anand-s-cmd/Deep_learning_POCS/blob/main/pytorch_stuff/download.jpg?raw=1\">"
      ]
    },
    {
      "cell_type": "markdown",
      "metadata": {
        "id": "BmPVtbi72dy3"
      },
      "source": [
        "PyTorch is a Python-based scientific computing package that uses the power of graphics processing units(GPU). It is also one of the preferred deep learning research platforms built to provide maximum flexibility and speed. It is known for providing two of the most high-level features; namely, tensor computations with strong GPU acceleration support and building deep neural networks on a tape-based autograd systems.\n",
        "\n",
        "There are many existing Python libraries which have the potential to change how deep learning and artificial intelligence are performed, and this is one such library. One of the key reasons behind PyTorch’s success is it is completely Pythonic and one can build neural network models effortlessly. It is still a young player when compared to its other competitors, however, it is gaining momentum fast."
      ]
    },
    {
      "cell_type": "markdown",
      "metadata": {
        "id": "MXcWyKte2dy5"
      },
      "source": [
        "## Brief History about PyTorch\n",
        "\n",
        "Since its release in January 2016, many researchers have continued to increasingly adopt PyTorch. It has quickly become a go-to library because of its ease in building extremely complex neural networks. It is giving a tough competition to TensorFlow especially when used for research work. However, there is still some time before it is adopted by the masses due to its still “new” and “under construction” tags.\n",
        "\n",
        "PyTorch creators envisioned this library to be highly imperative which can allow them to run all the numerical computations quickly. This is an ideal methodology which fits perfectly with the Python programming style. It has allowed deep learning scientists, machine learning developers, and neural network debuggers to run and test part of the code in real time. Thus they don’t have to wait for the entire code to be executed to check whether it works or not.\n",
        "You can always use your favorite Python packages such as NumPy, SciPy, and Cython to extend PyTorch functionalities and services when required. Now you might ask, why PyTorch? What’ so special in using it to build deep learning models?\n",
        "\n",
        "The answer is quite simple, PyTorch is a dynamic library (very flexible and you can use as per your requirements and changes) which is currently adopted by many of the researchers, students, and artificial intelligence developers. In the recent Kaggle competition, PyTorch library was used by nearly all of the top 10 finishers.\n",
        "\n",
        "Some of the key highlights of PyTorch includes:\n",
        "\n",
        "__Simple Interface:__ It offers easy to use API, thus it is very simple to operate and run like Python.\n",
        "\n",
        "__Pythonic in nature:__ This library, being Pythonic, smoothly integrates with the Python data science stack. Thus it can leverage all the services and functionalities offered by the Python environment.\n",
        "\n",
        "__Computational graphs:__ In addition to this, PyTorch provides an excellent platform which offers dynamic computational graphs, thus you can change them during runtime. This is highly useful when you have no idea how much memory will be required for creating a neural network model."
      ]
    },
    {
      "cell_type": "markdown",
      "metadata": {
        "id": "RdQZsi_V2dy7"
      },
      "source": [
        "### Why we use PyTorch in research field?\n",
        "\n",
        "Anyone who is working in the field of deep learning and artificial intelligence has likely worked with TensorFlow before, Google’s most popular open source library. However, the latest deep learning framework – PyTorch solves major problems in terms of research work. Arguably PyTorch is TensorFlow’s biggest competitor to date, and it is currently a much favored deep learning and artificial intelligence library in the research community.\n",
        "\n",
        "\n",
        "You might be thinking why we use PyTorch? I list down the three factors for that\n",
        "\n",
        "- Using API is Easy: It is as simple as Python.\n",
        "- Pyt"
      ]
    },
    {
      "cell_type": "markdown",
      "metadata": {
        "id": "3nHWOJuO2dy9"
      },
      "source": [
        "### CPU v/s GPU\n",
        "  - CPU have fewer but more powerful compute cores, and whereas GPUs have a large number of lower-performant cores.\n",
        "  - CPUs are more suited to sequential tasks and GPUs are suitable for tasks with significant parallelization.\n",
        "\n",
        "<img src=\"https://github.com/Anand-s-cmd/Deep_learning_POCS/blob/main/pytorch_stuff/Cpu%20vs%20Gpu.png?raw=1\">"
      ]
    },
    {
      "cell_type": "markdown",
      "metadata": {
        "id": "sa0APaI-2dy_"
      },
      "source": [
        "### Install\n",
        "\n",
        "<mark style=\"background-color: Blue\">__In CPU__</mark>\n",
        "\n",
        "__For Windows__\n",
        "\n",
        "* Install PyTorch using conda\n",
        "      conda install pytorch torchvision cpuonly -c pytorch\n",
        "\n",
        "* Using pip\n",
        "      pip3 install torch==1.4.0+cpu torchvision==0.5.0+cpu -f https://download.pytorch.org/whl/torch_stable.html\n",
        "        \n",
        "__For Mac__\n",
        "\n",
        "* Using conda\n",
        "      conda install pytorch torchvision -c pytorch\n",
        "    \n",
        "* Using pip\n",
        "      pip3 install torch torchvision\n",
        "    \n",
        "__For Linux__\n",
        "\n",
        "* Using conda\n",
        "      conda install pytorch torchvision cpuonly -c pytorch\n",
        "    \n",
        "* Using pip\n",
        "      pip3 install torch==1.4.0+cpu torchvision==0.5.0+cpu -f https://download.pytorch.org/whl/torch_stable.html\n",
        "      \n",
        "      \n",
        "      \n",
        "<mark style=\"background-color: Green\">__In GPU__</mark>\n",
        "\n",
        "__For Windows__\n",
        "\n",
        "* Install PyTorch using conda cuda=9.2 and Python=3.6\n",
        "      conda install pytorch torchvision cudatoolkit=9.2 -c pytorch\n",
        "     \n",
        "* Using conda cuda=10.1 and Python=3.6 \n",
        "      conda install pytorch torchvision cudatoolkit=10.1 -c pytorch\n",
        "     \n",
        "* Install Pytorch using pip cuda=9.2 and Python=3.6\n",
        "      pip3 install torch==1.4.0+cu92 torchvision==0.5.0+cu92 -f https://download.pytorch.org/whl/torch_stable.html\n",
        "     \n",
        "* Using pip cuda=10.1 and Python=3.6\n",
        "      pip3 install torch torchvision\n",
        "     \n",
        "__For Linux__\n",
        "\n",
        "* Install PyTorch using conda cuda=9.2 and Python=3.6\n",
        "      conda install pytorch torchvision cudatoolkit=9.2 -c pytorch\n",
        "     \n",
        "* Using conda cuda=10.1 and Python=3.6\n",
        "      conda install pytorch torchvision cudatoolkit=10.1 -c pytorch\n",
        "     \n",
        "* Install Pytorch using pip cuda=9.2 and Python=3.6\n",
        "      pip3 install torch==1.4.0+cu92 torchvision==0.5.0+cu92 -f https://download.pytorch.org/whl/torch_stable.html\n",
        "     \n",
        "* Using pip cuda=10.1 and Python=3.6\n",
        "      pip3 install torch torchvision\n",
        "     \n",
        "__For Mac__\n",
        "\n",
        "* Install PyTorch using conda  for cuda=9.2 and 10.1 we can use same command and Python=3.6\n",
        "\n",
        "      conda install pytorch torchvision -c pytorch\n",
        "         # MacOS Binaries dont support CUDA, install from source if CUDA is needed\n",
        "       \n",
        "* Install Pytorch using pip for cuda=9.2 and 10.1 we can use same command and Python=3.6\n",
        "\n",
        "      pip3 install torch torchvision\n",
        "         # MacOS Binaries dont support CUDA, install from source if CUDA is needed\n",
        "      \n",
        "You have to run all these commands in __Anaconda Prompt__ , if you want to install in a notebook just put \" ! \" mark before the command like: !pip3 install torch==1.4.0+cpu torchvision==0.5.0+cpu -f https://download.pytorch.org/whl/torch_stable.html"
      ]
    },
    {
      "cell_type": "markdown",
      "metadata": {
        "id": "MB9LS5492dzB"
      },
      "source": [
        "For more information about Installation you can go through this site : \"https://pytorch.org/\""
      ]
    },
    {
      "cell_type": "markdown",
      "metadata": {
        "id": "zYliGVY12dzC"
      },
      "source": [
        "### Tensors\n",
        "\n",
        "Tensor is similar to Numpy's ndarray, the additional point for Tensors in we can use it in GPUs to accelerate computing."
      ]
    },
    {
      "cell_type": "code",
      "execution_count": null,
      "metadata": {
        "id": "IPEK0M522dzD"
      },
      "outputs": [],
      "source": [
        "from __future__ import print_function\n",
        "import torch "
      ]
    },
    {
      "cell_type": "markdown",
      "metadata": {
        "id": "svrVOJIJ2dzD"
      },
      "source": [
        "__Note:__ Uninitialized matrix is declared, but doesn't contain definite known values before it is used. When we created an Unintialized matrix, whatever values were allocated inside the memory will apear as the initial values."
      ]
    },
    {
      "cell_type": "markdown",
      "metadata": {
        "id": "hovaUj5d2dzE"
      },
      "source": [
        "Construct 6x3 matrix, uninitialized:"
      ]
    },
    {
      "cell_type": "code",
      "execution_count": null,
      "metadata": {
        "id": "WQ50y6zB2dzF",
        "outputId": "e11a89a0-3b24-483e-a681-b52cc097fd42"
      },
      "outputs": [
        {
          "name": "stdout",
          "output_type": "stream",
          "text": [
            "tensor([[1.0194e-38, 9.9184e-39, 2.9389e-39],\n",
            "        [1.0194e-38, 2.9389e-39, 9.2755e-39],\n",
            "        [9.0918e-39, 1.0010e-38, 9.9184e-39],\n",
            "        [1.0653e-38, 9.1837e-39, 9.6428e-39],\n",
            "        [1.0010e-38, 9.1837e-39, 8.9082e-39],\n",
            "        [9.2755e-39, 1.1112e-38, 0.0000e+00]])\n"
          ]
        },
        {
          "data": {
            "text/plain": [
              "torch.Tensor"
            ]
          },
          "execution_count": 3,
          "metadata": {},
          "output_type": "execute_result"
        }
      ],
      "source": [
        "a = torch.empty(6,3)\n",
        "print(a)\n",
        "type(a)"
      ]
    },
    {
      "cell_type": "markdown",
      "metadata": {
        "id": "e1F3euIh2dzF"
      },
      "source": [
        "Construct a randomly initialized matrix:"
      ]
    },
    {
      "cell_type": "code",
      "execution_count": null,
      "metadata": {
        "id": "bfokrrjv2dzG",
        "outputId": "881c52c1-5e0d-4a69-ad30-28fa1c243629"
      },
      "outputs": [
        {
          "name": "stdout",
          "output_type": "stream",
          "text": [
            "tensor([[0.7165, 0.1946, 0.4888],\n",
            "        [0.1459, 0.6605, 0.4174],\n",
            "        [0.3007, 0.9020, 0.9754],\n",
            "        [0.6012, 0.2643, 0.1553]])\n"
          ]
        },
        {
          "data": {
            "text/plain": [
              "torch.Tensor"
            ]
          },
          "execution_count": 4,
          "metadata": {},
          "output_type": "execute_result"
        }
      ],
      "source": [
        "a = torch.rand(4,3)\n",
        "print(a)\n",
        "type(a)"
      ]
    },
    {
      "cell_type": "markdown",
      "metadata": {
        "id": "FgcAYJ_32dzH"
      },
      "source": [
        "Construct a matrix filled zeros and of dtype long:"
      ]
    },
    {
      "cell_type": "code",
      "execution_count": null,
      "metadata": {
        "id": "Khq9lHkC2dzH",
        "outputId": "a0db39be-b447-4716-e65e-cdd6db128e8a"
      },
      "outputs": [
        {
          "name": "stdout",
          "output_type": "stream",
          "text": [
            "tensor([[0, 0, 0],\n",
            "        [0, 0, 0],\n",
            "        [0, 0, 0],\n",
            "        [0, 0, 0]])\n"
          ]
        },
        {
          "data": {
            "text/plain": [
              "torch.Tensor"
            ]
          },
          "execution_count": 5,
          "metadata": {},
          "output_type": "execute_result"
        }
      ],
      "source": [
        "a = torch.zeros(4,3, dtype=torch.long)\n",
        "print(a)\n",
        "type(a)"
      ]
    },
    {
      "cell_type": "markdown",
      "metadata": {
        "id": "8iZ_Lcre2dzI"
      },
      "source": [
        "Construct a tensor with data:"
      ]
    },
    {
      "cell_type": "code",
      "execution_count": null,
      "metadata": {
        "id": "RC1WP6r32dzI",
        "outputId": "5a6099ec-3bcd-478a-9486-6f2d27302f47"
      },
      "outputs": [
        {
          "name": "stdout",
          "output_type": "stream",
          "text": [
            "tensor([7.8000, 5.0000])\n"
          ]
        }
      ],
      "source": [
        "a = torch.tensor([7.8, 5])\n",
        "type(a)\n",
        "print(a)"
      ]
    },
    {
      "cell_type": "markdown",
      "metadata": {
        "id": "WH-ckdjn2dzJ"
      },
      "source": [
        "or we can create new tensor with existing tensor.These methods we reuse its properties of input tensor, e.g. dtype, unless new values are provided by us."
      ]
    },
    {
      "cell_type": "code",
      "execution_count": null,
      "metadata": {
        "id": "ady7kQVK2dzJ",
        "outputId": "550897bc-4682-4c7d-bffc-c806746a3c26"
      },
      "outputs": [
        {
          "name": "stdout",
          "output_type": "stream",
          "text": [
            "tensor([[1., 1., 1., 1., 1.],\n",
            "        [1., 1., 1., 1., 1.],\n",
            "        [1., 1., 1., 1., 1.],\n",
            "        [1., 1., 1., 1., 1.],\n",
            "        [1., 1., 1., 1., 1.],\n",
            "        [1., 1., 1., 1., 1.]], dtype=torch.float64)\n",
            "tensor([[-0.6114, -0.1190, -0.7452, -1.1604, -0.4108],\n",
            "        [ 0.6734, -0.2660, -0.4076,  0.1897,  0.1084],\n",
            "        [-0.0336, -0.9303, -0.7899, -2.6013,  1.3584],\n",
            "        [ 0.0729,  0.6460,  0.4087, -0.5378, -0.3683],\n",
            "        [ 0.1475,  0.0366, -0.9053, -1.0458,  1.2596],\n",
            "        [-2.2136,  1.5095, -0.4516, -1.7238,  1.4533]])\n"
          ]
        },
        {
          "data": {
            "text/plain": [
              "torch.Tensor"
            ]
          },
          "execution_count": 7,
          "metadata": {},
          "output_type": "execute_result"
        }
      ],
      "source": [
        "a = a.new_ones(6,5, dtype=torch.double)    # new methods take in sizes\n",
        "print(a)\n",
        "\n",
        "\n",
        "a = torch.randn_like(a, dtype=torch.float)  # override dtype\n",
        "print(a)                                    # result will be the same size\n",
        "\n",
        "type(a)"
      ]
    },
    {
      "cell_type": "markdown",
      "metadata": {
        "id": "kEOlxC5o2dzK"
      },
      "source": [
        "Let's get the size:"
      ]
    },
    {
      "cell_type": "code",
      "execution_count": null,
      "metadata": {
        "id": "9QR7sa-T2dzL",
        "outputId": "ba6588c6-6eb6-43b5-c170-40f54a184282"
      },
      "outputs": [
        {
          "name": "stdout",
          "output_type": "stream",
          "text": [
            "torch.Size([6, 5])\n"
          ]
        }
      ],
      "source": [
        "print(a.size())"
      ]
    },
    {
      "cell_type": "markdown",
      "metadata": {
        "id": "Dz_ux_i92dzL"
      },
      "source": [
        "Note: <mark style=\"background-color: Yellow\">torch_size</mark> is actually a tuple, so it supports all tuple operations."
      ]
    },
    {
      "cell_type": "markdown",
      "metadata": {
        "id": "J6XrcmUG2dzM"
      },
      "source": [
        "### Operations\n",
        "\n",
        "There are multiple syntaxes for operations. In the following examples, we used addition operation,\n",
        "\n",
        "Addition: syntax1"
      ]
    },
    {
      "cell_type": "code",
      "execution_count": null,
      "metadata": {
        "id": "1xgzQFir2dzM",
        "outputId": "980db218-62a4-4e94-fc2e-1ba2a82c5bd6"
      },
      "outputs": [
        {
          "name": "stdout",
          "output_type": "stream",
          "text": [
            "torch.Size([6, 5])\n",
            "torch.Size([6, 5])\n"
          ]
        }
      ],
      "source": [
        "b = torch.rand(6,5)\n",
        "\n",
        "print(a.size())\n",
        "print(b.size())"
      ]
    },
    {
      "cell_type": "code",
      "execution_count": null,
      "metadata": {
        "id": "VOED0xVg2dzN",
        "outputId": "95a77155-c3ca-47c3-db7e-79d29e8843b4"
      },
      "outputs": [
        {
          "name": "stdout",
          "output_type": "stream",
          "text": [
            "tensor([[ 0.3613,  0.5777, -0.4670, -1.0462,  0.4782],\n",
            "        [ 1.6286, -0.1482,  0.5245,  0.8467,  0.2421],\n",
            "        [ 0.6059, -0.6009,  0.0957, -1.7234,  2.2453],\n",
            "        [ 0.6716,  0.8039,  0.9192,  0.4599, -0.2112],\n",
            "        [ 1.1217,  1.0085,  0.0574, -0.6791,  2.2592],\n",
            "        [-1.4018,  2.1200, -0.3327, -1.5783,  2.0897]])\n"
          ]
        }
      ],
      "source": [
        "print(a + b)"
      ]
    },
    {
      "cell_type": "markdown",
      "metadata": {
        "id": "ktejlzyq2dzN"
      },
      "source": [
        "Addition: syntax2"
      ]
    },
    {
      "cell_type": "code",
      "execution_count": null,
      "metadata": {
        "id": "qNgF-zAJ2dzO",
        "outputId": "c9f3119a-c45b-46eb-a373-3fc9712367e5"
      },
      "outputs": [
        {
          "name": "stdout",
          "output_type": "stream",
          "text": [
            "tensor([[ 0.3613,  0.5777, -0.4670, -1.0462,  0.4782],\n",
            "        [ 1.6286, -0.1482,  0.5245,  0.8467,  0.2421],\n",
            "        [ 0.6059, -0.6009,  0.0957, -1.7234,  2.2453],\n",
            "        [ 0.6716,  0.8039,  0.9192,  0.4599, -0.2112],\n",
            "        [ 1.1217,  1.0085,  0.0574, -0.6791,  2.2592],\n",
            "        [-1.4018,  2.1200, -0.3327, -1.5783,  2.0897]])\n"
          ]
        }
      ],
      "source": [
        "print(torch.add(a,b))"
      ]
    },
    {
      "cell_type": "markdown",
      "metadata": {
        "id": "aFpLjVH_2dzO"
      },
      "source": [
        "Addition: providing an output as an argument"
      ]
    },
    {
      "cell_type": "code",
      "execution_count": null,
      "metadata": {
        "id": "wEpn8y-m2dzO",
        "outputId": "e7cfb843-7a13-419f-fdca-490806b094c8"
      },
      "outputs": [
        {
          "name": "stdout",
          "output_type": "stream",
          "text": [
            "tensor([[ 0.3613,  0.5777, -0.4670, -1.0462,  0.4782],\n",
            "        [ 1.6286, -0.1482,  0.5245,  0.8467,  0.2421],\n",
            "        [ 0.6059, -0.6009,  0.0957, -1.7234,  2.2453],\n",
            "        [ 0.6716,  0.8039,  0.9192,  0.4599, -0.2112],\n",
            "        [ 1.1217,  1.0085,  0.0574, -0.6791,  2.2592],\n",
            "        [-1.4018,  2.1200, -0.3327, -1.5783,  2.0897]])\n"
          ]
        }
      ],
      "source": [
        "result = torch.empty(6, 5)\n",
        "torch.add(a, b, out=result)\n",
        "print(result)"
      ]
    },
    {
      "cell_type": "markdown",
      "metadata": {
        "id": "V7UMdKku2dzP"
      },
      "source": [
        "Addition: in place"
      ]
    },
    {
      "cell_type": "code",
      "execution_count": null,
      "metadata": {
        "id": "FJqZr7a72dzP",
        "outputId": "8709740e-edd8-45a3-b9d2-1228d394093f"
      },
      "outputs": [
        {
          "name": "stdout",
          "output_type": "stream",
          "text": [
            "tensor([[ 0.3613,  0.5777, -0.4670, -1.0462,  0.4782],\n",
            "        [ 1.6286, -0.1482,  0.5245,  0.8467,  0.2421],\n",
            "        [ 0.6059, -0.6009,  0.0957, -1.7234,  2.2453],\n",
            "        [ 0.6716,  0.8039,  0.9192,  0.4599, -0.2112],\n",
            "        [ 1.1217,  1.0085,  0.0574, -0.6791,  2.2592],\n",
            "        [-1.4018,  2.1200, -0.3327, -1.5783,  2.0897]])\n"
          ]
        }
      ],
      "source": [
        "# adds a to b\n",
        "b.add_(a)\n",
        "print(b)"
      ]
    },
    {
      "cell_type": "markdown",
      "metadata": {
        "id": "ACNYUFy22dzQ"
      },
      "source": [
        "__Note:__ Any operation that mutates a tensor in-place is post-fixed with an <mark style=\"background-color: red\">_.</mark> For example: a.copy_(b), a.b_(), will change a."
      ]
    },
    {
      "cell_type": "markdown",
      "metadata": {
        "id": "ZVFbcFKF2dzQ"
      },
      "source": [
        "We can use standard NumPy-like indexing with all bells and whistles!"
      ]
    },
    {
      "cell_type": "code",
      "execution_count": null,
      "metadata": {
        "id": "_Fl5X-hb2dzQ",
        "outputId": "82d7826f-8277-42eb-ffde-827a020c5972"
      },
      "outputs": [
        {
          "name": "stdout",
          "output_type": "stream",
          "text": [
            "tensor([-0.7452, -0.4076, -0.7899,  0.4087, -0.9053, -0.4516])\n"
          ]
        }
      ],
      "source": [
        "print(a[:,2])"
      ]
    },
    {
      "cell_type": "markdown",
      "metadata": {
        "id": "QiGUHwvy2dzR"
      },
      "source": [
        "Resizing: We can resize or reshape tensor, use <mark style=\"background-color: Yellow\">tensor.view</mark> for that:"
      ]
    },
    {
      "cell_type": "code",
      "execution_count": null,
      "metadata": {
        "id": "V2wkltR62dzR",
        "outputId": "04a9a458-fb4c-4772-8fcf-1989fc72ddc0"
      },
      "outputs": [
        {
          "name": "stdout",
          "output_type": "stream",
          "text": [
            "torch.Size([3, 3]) torch.Size([9]) torch.Size([1, 9])\n"
          ]
        }
      ],
      "source": [
        "a = torch.randn(3, 3)\n",
        "b = a.view(9)\n",
        "c = a.view(-1, 9)  # the size -1 is inferred from other dimensions\n",
        "print(a.size(), b.size(), c.size())"
      ]
    },
    {
      "cell_type": "markdown",
      "metadata": {
        "id": "NkWn3V-C2dzR"
      },
      "source": [
        "If you have one value tensor, use <mark style=\"background-color: Yellow\">.item()</mark> to get the value of the Python number"
      ]
    },
    {
      "cell_type": "code",
      "execution_count": null,
      "metadata": {
        "id": "sLX74beu2dzS",
        "outputId": "a625e406-7108-4a2f-f8a0-df55dea0a387"
      },
      "outputs": [
        {
          "name": "stdout",
          "output_type": "stream",
          "text": [
            "tensor([0.2483])\n",
            "0.2482965588569641\n"
          ]
        }
      ],
      "source": [
        "a = torch.randn(1)\n",
        "print(a)\n",
        "print(a.item())"
      ]
    },
    {
      "cell_type": "markdown",
      "metadata": {
        "id": "6Qvl7BB12dzS"
      },
      "source": [
        "### NumPy Bridge\n",
        "\n",
        "Converting a Torch Tensor to NumPy array and vice versa is breeze.\n",
        "\n",
        "The Torch Tensor and NumPy array will share their underlying memory locations (if the Torch Tensor is on CPU), and changing one will change the other."
      ]
    },
    {
      "cell_type": "markdown",
      "metadata": {
        "id": "AUiY_s9s2dzS"
      },
      "source": [
        "__Converting a Torch tensor to NumPy array__"
      ]
    },
    {
      "cell_type": "code",
      "execution_count": null,
      "metadata": {
        "id": "k92knyUt2dzT",
        "outputId": "f5564f05-8b2a-4dc0-a584-ffb579457395"
      },
      "outputs": [
        {
          "name": "stdout",
          "output_type": "stream",
          "text": [
            "tensor([1., 1., 1., 1.])\n"
          ]
        }
      ],
      "source": [
        "x = torch.ones(4)\n",
        "print(x)"
      ]
    },
    {
      "cell_type": "code",
      "execution_count": null,
      "metadata": {
        "id": "yDl7_62r2dzT",
        "outputId": "aef2cd4d-6d4d-4094-e5e2-97aee2938df8"
      },
      "outputs": [
        {
          "name": "stdout",
          "output_type": "stream",
          "text": [
            "[1. 1. 1. 1.]\n"
          ]
        }
      ],
      "source": [
        "y = x.numpy()\n",
        "print(y)"
      ]
    },
    {
      "cell_type": "markdown",
      "metadata": {
        "id": "WH0Hrvht2dzY"
      },
      "source": [
        "See how numpy array changed in value"
      ]
    },
    {
      "cell_type": "code",
      "execution_count": null,
      "metadata": {
        "id": "D1lMX_sz2dzY",
        "outputId": "b84a5855-f577-4457-f6e4-24ae13db2c4f"
      },
      "outputs": [
        {
          "name": "stdout",
          "output_type": "stream",
          "text": [
            "tensor([2., 2., 2., 2.])\n",
            "[2. 2. 2. 2.]\n"
          ]
        }
      ],
      "source": [
        "x.add_(1)\n",
        "print(x)\n",
        "print(y)"
      ]
    },
    {
      "cell_type": "markdown",
      "metadata": {
        "id": "VSw_PMrE2dzZ"
      },
      "source": [
        "__Converting NumPy array to Torch tensor__"
      ]
    },
    {
      "cell_type": "markdown",
      "metadata": {
        "id": "C66OrfQY2dzZ"
      },
      "source": [
        "lets see how changing the numpy array changed the Torch Tensor automatically"
      ]
    },
    {
      "cell_type": "code",
      "execution_count": null,
      "metadata": {
        "id": "g8CnxTHb2dzZ",
        "outputId": "a9e20fd8-fa51-4262-b60d-5f99f1db53fe"
      },
      "outputs": [
        {
          "name": "stdout",
          "output_type": "stream",
          "text": [
            "[2. 2. 2. 2.]\n",
            "tensor([2., 2., 2., 2.], dtype=torch.float64)\n"
          ]
        }
      ],
      "source": [
        "import numpy as np\n",
        "f = np.ones(4)\n",
        "g = torch.from_numpy(f)\n",
        "np.add(f, 1, out=f)\n",
        "print(f)\n",
        "print(g)"
      ]
    },
    {
      "cell_type": "markdown",
      "metadata": {
        "id": "SbJUejHP2dzZ"
      },
      "source": [
        "All the Tensors on the CPU except a CharTensor support converting to NumPy and back.\n",
        "\n",
        "__CUDA Tensors__\n",
        "\n",
        "Tensors can be moved onto any device using the <mark style=\"background-color: Yellow\">.to</mark> method."
      ]
    },
    {
      "cell_type": "code",
      "execution_count": null,
      "metadata": {
        "id": "TleGTu0D2dza"
      },
      "outputs": [],
      "source": [
        "# let us run this cell only if CUDA is available\n",
        "# We will use ``torch.device`` objects to move tensors in and out of GPU\n",
        "if torch.cuda.is_available():\n",
        "    device = torch.device(\"cuda\")          # a CUDA device object\n",
        "    y = torch.ones_like(x, device=device)  # directly create a tensor on GPU\n",
        "    x = x.to(device)                       # or just use strings ``.to(\"cuda\")``\n",
        "    z = x + y\n",
        "    print(z)\n",
        "    print(z.to(\"cpu\", torch.double))       # ``.to`` can also change dtype together!"
      ]
    },
    {
      "cell_type": "markdown",
      "metadata": {
        "id": "xMSYXtsH2dza"
      },
      "source": [
        "## AUTOGRAD : Automatic Differentiaition"
      ]
    },
    {
      "cell_type": "markdown",
      "metadata": {
        "id": "ybfSIatz2dza"
      },
      "source": [
        "Definition - \n",
        "\n",
        "  - This class is an engine to calculate derivatives. It records the graph of all the operations performed on a gradient      enabled tensor and creates a acyclic graph called the dynamic computational graph(DCG).The leaves of this graph are input tensors and the roots are output tensors. Gradients are calculated by tracing the graph from the root to the leaf and multiplying every gradient in the way using the chain rule."
      ]
    },
    {
      "cell_type": "markdown",
      "metadata": {
        "id": "HD5lagUx2dzb"
      },
      "source": [
        "Let us see this in some more easy terms with some examples"
      ]
    },
    {
      "cell_type": "markdown",
      "metadata": {
        "id": "Z3nOPXcI2dzb"
      },
      "source": [
        "## Tensor\n",
        "\n",
        "<mark style=\"background-color: Yellow\">torch.Tensor</mark> is the central class of the package.If we set its attribute <mark style=\"background-color: Yellow\">.requires_grad</mark> as <mark style=\"background-color: dark grey\">True</mark>, it starts to track all operations on it. When you finish your computation you can call <mark style=\"background-color: Yellow\">.backward()</mark> and have all the gradients computed automatically. The gradient of this tensor will be accumulated into <mark style=\"background-color: Yellow\">.grad</mark> attribute."
      ]
    },
    {
      "cell_type": "markdown",
      "metadata": {
        "id": "E4M2pDeN2dzb"
      },
      "source": [
        "To stop a tensor from tracking history, you can call <mark style=\"background-color: Yellow\">.detach()</mark> to detach it from the computation history, and to prevent future computation from being tracked.\n",
        "\n",
        "\n",
        "To prevent tracking history(and using memory), you can also wrap the code block in with <mark style=\"background-color: Yellow\">torch.no_grad():</mark>. This can be particularly helpful when evaluating a model because the model may have trainable parameters with <mark style=\"background-color: Yellow\">requires_grad=True</mark>, but for which we don’t need the gradients.\n",
        "\n",
        "There's one more class which is very important in autograd implementation - a <mark style=\"background-color: Yellow\">Function</mark>\n",
        "\n",
        "<mark style=\"background-color: Yellow\">Tensor</mark> and <mark style=\"background-color: Yellow\">Function</mark> are interconnected and build up an acyclic graph, that encodes a complete history of computation. Each tensor has a <mark style=\"background-color: Yellow\">.grad_fn</mark> attribute that references a Function that has created the Tensor (except for Tensors created by the user - their <mark style=\"background-color: Yellow\">grad_fn is None</mark>).\n",
        "\n",
        "If you want to compute the derivatives, you can call <mark style=\"background-color: Yellow\">.backward()</mark> on a <mark style=\"background-color: Yellow\">Tensor</mark>. If <mark style=\"background-color: Yellow\">Tensor</mark> is a scalar (i.e. it holds a one element data), you don’t need to specify any arguments to <mark style=\"background-color: Yellow\">backward()</mark>, however if it has more elements, you need to specify a <mark style=\"background-color: Yellow\">gradient</mark> argument that is a tensor of matching shape."
      ]
    },
    {
      "cell_type": "code",
      "execution_count": null,
      "metadata": {
        "id": "TKPZWHqL2dzd"
      },
      "outputs": [],
      "source": [
        "import torch"
      ]
    },
    {
      "cell_type": "markdown",
      "metadata": {
        "id": "kwFcuTvv2dzd"
      },
      "source": [
        "Create a tensor and set requires_grad=True to track computation with it."
      ]
    },
    {
      "cell_type": "code",
      "execution_count": null,
      "metadata": {
        "id": "yJHwXMYv2dzd",
        "outputId": "616e4210-8418-4338-a61f-c01f2bfaf48f"
      },
      "outputs": [
        {
          "name": "stdout",
          "output_type": "stream",
          "text": [
            "tensor([[1., 1.],\n",
            "        [1., 1.]], requires_grad=True)\n"
          ]
        }
      ],
      "source": [
        "a = torch.ones(2, 2, requires_grad=True)\n",
        "print(a)"
      ]
    },
    {
      "cell_type": "markdown",
      "metadata": {
        "id": "yTPdI_aD2dze"
      },
      "source": [
        "Do a tensor operation:"
      ]
    },
    {
      "cell_type": "code",
      "execution_count": null,
      "metadata": {
        "id": "g1RlGCZo2dze",
        "outputId": "f6474dc3-80fb-4581-c44d-8ae0c7cf952e"
      },
      "outputs": [
        {
          "name": "stdout",
          "output_type": "stream",
          "text": [
            "tensor([[3., 3.],\n",
            "        [3., 3.]], grad_fn=<AddBackward0>)\n"
          ]
        }
      ],
      "source": [
        "b = a + 2\n",
        "print(b)"
      ]
    },
    {
      "cell_type": "markdown",
      "metadata": {
        "id": "Re4DWo-p2dzf"
      },
      "source": [
        "b was created as a result of an operatio, so it has a <mark style=\"background-color: Yellow\">grad_fn</mark>"
      ]
    },
    {
      "cell_type": "code",
      "execution_count": null,
      "metadata": {
        "id": "-GGR2fXS2dzf",
        "outputId": "fb22ed40-8897-42fb-e702-a7d4d106bbc9"
      },
      "outputs": [
        {
          "name": "stdout",
          "output_type": "stream",
          "text": [
            "<AddBackward0 object at 0x00000189BE34EF40>\n"
          ]
        }
      ],
      "source": [
        "print(b.grad_fn)"
      ]
    },
    {
      "cell_type": "markdown",
      "metadata": {
        "id": "QH9wfq--2dzg"
      },
      "source": [
        "Do more operation on b"
      ]
    },
    {
      "cell_type": "code",
      "execution_count": null,
      "metadata": {
        "id": "0IMmoNJj2dzg",
        "outputId": "0ea3e80f-9c0b-40c0-afaa-c83435dc3d76"
      },
      "outputs": [
        {
          "name": "stdout",
          "output_type": "stream",
          "text": [
            "tensor([[27., 27.],\n",
            "        [27., 27.]], grad_fn=<MulBackward0>) tensor(27., grad_fn=<MeanBackward0>)\n"
          ]
        }
      ],
      "source": [
        "c = b * b * 3\n",
        "out = c.mean()\n",
        "\n",
        "print(c, out)"
      ]
    },
    {
      "cell_type": "markdown",
      "metadata": {
        "id": "TlyxT7gw2dzg"
      },
      "source": [
        "<mark style=\"background-color: Yellow\">.requires_grad_( ... )</mark>  changes an existing Tensor’s <mark style=\"background-color: Yellow\">requires_grad</mark> flag in-place. The input flag defaults to False if not given."
      ]
    },
    {
      "cell_type": "code",
      "execution_count": null,
      "metadata": {
        "id": "xeFeXPem2dzh",
        "outputId": "70b193c4-d0c4-404b-d0cf-4b20a64e03ff"
      },
      "outputs": [
        {
          "name": "stdout",
          "output_type": "stream",
          "text": [
            "False\n",
            "True\n",
            "<SumBackward0 object at 0x00000189B9989C70>\n"
          ]
        }
      ],
      "source": [
        "p = torch.randn(3, 3)\n",
        "p = ((p * 3) / (p - 1))\n",
        "print(p.requires_grad)\n",
        "p.requires_grad_(True)\n",
        "print(p.requires_grad)\n",
        "q = (p * p).sum()\n",
        "print(q.grad_fn)"
      ]
    },
    {
      "cell_type": "markdown",
      "metadata": {
        "id": "MnucA0TF2dzh"
      },
      "source": [
        "## Gradients\n",
        "\n",
        "Let's backdrop now. Because <mark style=\"background-color: magenta\">out</mark> contains a single scalar, <mark style=\"background-color: Yellow\">out.backword</mark> is equivalent to  <mark style=\"background-color: Yellow\">out.backward(torch.tensor(1.))</mark>. "
      ]
    },
    {
      "cell_type": "code",
      "execution_count": null,
      "metadata": {
        "id": "wN_ooDo92dzi"
      },
      "outputs": [],
      "source": [
        "out.backward()"
      ]
    },
    {
      "cell_type": "markdown",
      "metadata": {
        "id": "5KSrAtAk2dzi"
      },
      "source": [
        "Print gradients d(out)/dx"
      ]
    },
    {
      "cell_type": "code",
      "execution_count": null,
      "metadata": {
        "id": "F_6MiWsz2dzi",
        "outputId": "db9a0ed9-8c98-40da-da36-ca49c8d54b9f"
      },
      "outputs": [
        {
          "name": "stdout",
          "output_type": "stream",
          "text": [
            "tensor([[4.5000, 4.5000],\n",
            "        [4.5000, 4.5000]])\n"
          ]
        }
      ],
      "source": [
        "print(a.grad)"
      ]
    },
    {
      "cell_type": "markdown",
      "metadata": {
        "id": "WO3QvKpu2dzj"
      },
      "source": [
        "You should have got a matrix of 4.5. Let’s call the out Tensor “o”. We have that \n",
        "\n",
        "$o= \\frac{1}{4} \\sum c_i $ $c_i= 3(a_i+2)^2$  and $c_i|_{a_i=1}= 27$ . \n",
        "\n",
        "Therefore, $\\frac{\\partial_0}{\\partial a_i}=\\frac{3(x_i+2)}{2}$, \n",
        "\n",
        "hence\n",
        "$\\frac{\\partial_0}{\\partial a_i}|_{a_i=1} = \\frac{9}{2} = 4.5$\n",
        "\n"
      ]
    },
    {
      "cell_type": "markdown",
      "metadata": {
        "id": "fWPscstf2dzj"
      },
      "source": [
        "### Mathematically - Jacobians and vectors\n",
        "\n",
        "Mathematically, the autograd class is just a Jacobian-vector product computing engine. A Jacobian matrix in very simple words is a matrix representing all the possible partial derivatives of two vectors. It’s the gradient of a vector with respect to another vector.\n",
        "\n",
        "If a vector X = [x1, x2,….xn] is used to calculate some other vector f(X) = [f1, f2, …. fn] through a function f then the Jacobian matrix (J) simply contains all the partial derivative combinations as follows:\n",
        "\n",
        "<img src=\"https://github.com/Anand-s-cmd/Deep_learning_POCS/blob/main/pytorch_stuff/jacobian-vector.png?raw=1\">\n",
        "\n",
        "Above matrix represents the gradient of f(X)with respect to X\n",
        "Suppose a PyTorch gradient enabled tensors X as:\n",
        "X = [x1, x2, ….. xn] (Let this be the weights of some machine learning model)\n",
        "X undergoes some operations to form a vector Y\n",
        "Y = f(X) = [y1, y2, …. ym]\n",
        "Y is then used to calculate a scalar loss l. Suppose a vector v happens to be the gradient of the scalar loss l with respect the vector Y as follows\n",
        "\n",
        "<img src=\"https://github.com/Anand-s-cmd/Deep_learning_POCS/blob/main/pytorch_stuff/jacob1.png?raw=1\">       *The vector v is called the grad_tensor and passed to the backward() function as an argument*\n",
        "\n",
        "To get the gradient of the loss l with respect to the weights X the Jacobian matrix J is vector-multiplied with the vector v.\n",
        "\n",
        "<img src=\"https://github.com/Anand-s-cmd/Deep_learning_POCS/blob/main/pytorch_stuff/jac1.png?raw=1\"> \n",
        "\n",
        "This method of calculating the Jacobian matrix and multiplying it with a vector v enables the possibility for PyTorch to feed external gradients with ease for even the non-scalar outputs."
      ]
    },
    {
      "cell_type": "markdown",
      "metadata": {
        "id": "vX6NExRg2dzj"
      },
      "source": [
        "Now let's have a look at an example of vector-Jacobian product:"
      ]
    },
    {
      "cell_type": "code",
      "execution_count": null,
      "metadata": {
        "id": "YCzoxGad2dzk",
        "outputId": "760c4e0f-64f2-4598-f270-d3a77511fbc3"
      },
      "outputs": [
        {
          "name": "stdout",
          "output_type": "stream",
          "text": [
            "tensor([ 659.8968,  365.4067, -713.6188], grad_fn=<MulBackward0>)\n"
          ]
        }
      ],
      "source": [
        "x = torch.randn(3, requires_grad=True)\n",
        "\n",
        "y = x * 2\n",
        "while y.data.norm() < 1000:\n",
        "    y = y * 2\n",
        "\n",
        "print(y)"
      ]
    },
    {
      "cell_type": "markdown",
      "metadata": {
        "id": "FRDAm4OB2dzk"
      },
      "source": [
        "Now in this case y is no longer a scalar.<mark style=\"background-color: Yellow\">torch.autograd(torch.tensor(1.))</mark> could not compute the full Jacobian directly, but if we just want the vector-Jacobian product, simply pass the vector to backward as argument:"
      ]
    },
    {
      "cell_type": "code",
      "execution_count": null,
      "metadata": {
        "id": "EFQ8QC4h2dzl",
        "outputId": "fc782537-5488-461a-f927-0af0c9cc0e22"
      },
      "outputs": [
        {
          "name": "stdout",
          "output_type": "stream",
          "text": [
            "tensor([5.1200e+01, 5.1200e+02, 5.1200e-02])\n"
          ]
        }
      ],
      "source": [
        "v = torch.tensor([0.1, 1.0, 0.0001], dtype=torch.float)\n",
        "y.backward(v)\n",
        "\n",
        "print(x.grad)"
      ]
    },
    {
      "cell_type": "markdown",
      "metadata": {
        "id": "rC0Y0idR2dzl"
      },
      "source": [
        "You can also stop autograd from tracking history on Tensors with <mark style=\"background-color: Yellow\">.requires_grad=True</mark> either by wrapping the code block in with <mark style=\"background-color: Yellow\">torch.no_grad()</mark>:"
      ]
    },
    {
      "cell_type": "code",
      "execution_count": null,
      "metadata": {
        "id": "ZoJ5T-Jt2dzl",
        "outputId": "465f5104-37f1-4196-be95-29892bb8d9c8"
      },
      "outputs": [
        {
          "name": "stdout",
          "output_type": "stream",
          "text": [
            "True\n",
            "True\n",
            "False\n"
          ]
        }
      ],
      "source": [
        "print(x.requires_grad)\n",
        "print((x ** 2).requires_grad)\n",
        "\n",
        "with torch.no_grad():\n",
        "    print((x ** 2).requires_grad)"
      ]
    },
    {
      "cell_type": "markdown",
      "metadata": {
        "id": "2yQQ7nvt2dzm"
      },
      "source": [
        "Or by using .detach() to get a new Tensor with the same content but that does not require gradients:"
      ]
    },
    {
      "cell_type": "code",
      "execution_count": null,
      "metadata": {
        "id": "flhwK5832dzm",
        "outputId": "07e7f23a-1cd4-4e07-c8fb-18bdbebb2a94"
      },
      "outputs": [
        {
          "name": "stdout",
          "output_type": "stream",
          "text": [
            "True\n",
            "False\n",
            "tensor(True)\n"
          ]
        }
      ],
      "source": [
        "print(x.requires_grad)\n",
        "y = x.detach()\n",
        "print(y.requires_grad)\n",
        "print(x.eq(y).all())"
      ]
    },
    {
      "cell_type": "markdown",
      "metadata": {
        "id": "rc4-C71Q2dzn"
      },
      "source": [
        "## Neural Networks\n",
        "\n",
        "We can construct neural networks using the <mark style=\"background-color: Yellow\">torch.nn</mark> package.\n",
        "\n",
        "Now that you had a glimpse of autograd, nn depends on autograd to define models and differentiate them. An nn.Module contains layers, and a method forward(input)that returns the output.\n",
        "\n",
        "For example, look at this network that classifies digit images:\n",
        "<img src=\"https://github.com/Anand-s-cmd/Deep_learning_POCS/blob/main/pytorch_stuff/neural.png?raw=1\"> \n",
        "\n",
        "\n",
        "### convnet\n",
        "\n",
        "It is a simple feed-forward network. It takes the input,feeds it through several layers one after the other, and then finally gives the output.\n",
        "\n",
        "A typical training procedure for a neural network is as follows:\n",
        "- Define the neural network that has some learnable parameters (or weights)\n",
        "- Iterate over a dataset of inputs\n",
        "- Process input through the network\n",
        "- Compute the loss (how far is the output from being correct)\n",
        "- Propagate gradients back into the network’s parameters\n",
        "- Update the weights of the network, typically using a simple update rule: <mark style=\"background-color: light-blue\">weight = weight - learning_rate * gradient</mark>\n",
        "        \n",
        "### Define the network\n",
        "\n",
        "Let's define the network:"
      ]
    },
    {
      "cell_type": "code",
      "execution_count": null,
      "metadata": {
        "id": "6gzFtD2A2dzn",
        "outputId": "78671ece-9664-4f7a-a0f6-958bb0ccbb2e"
      },
      "outputs": [
        {
          "name": "stdout",
          "output_type": "stream",
          "text": [
            "network(\n",
            "  (conv1): Conv2d(1, 6, kernel_size=(3, 3), stride=(1, 1))\n",
            "  (conv2): Conv2d(6, 16, kernel_size=(3, 3), stride=(1, 1))\n",
            "  (fc1): Linear(in_features=576, out_features=120, bias=True)\n",
            "  (fc2): Linear(in_features=120, out_features=84, bias=True)\n",
            "  (fc3): Linear(in_features=84, out_features=10, bias=True)\n",
            ")\n"
          ]
        }
      ],
      "source": [
        "import torch\n",
        "import torch.nn as nn\n",
        "import torch.nn.functional as F\n",
        "\n",
        "\n",
        "class network(nn.Module): #--------------------- INHERING THE nn.module from torch.nn class\n",
        "\n",
        "    def __init__(self):\n",
        "        super(network, self).__init__()\n",
        "        # 1 input image channel, 6 output channels, 3x3 square convolution\n",
        "        # kernel\n",
        "        self.conv1 = nn.Conv2d(1, 6, 3)#-------1 inp image * 6 filters(3.3)= 6 out images\n",
        "        self.conv2 = nn.Conv2d(6, 16, 3)#-------6 inp image * 16 filters(3.3)= 16 out images\n",
        "        # an affine operation: y = mx + b\n",
        "        self.fc1 = nn.Linear(16 * 6 * 6, 120)  # 6*6 from image dimension#-------16(6,6) \n",
        "        self.fc2 = nn.Linear(120, 84)\n",
        "        self.fc3 = nn.Linear(84, 10)\n",
        "\n",
        "    def forward(self, x):\n",
        "        # Max pooling over a (2, 2) window\n",
        "        x = F.max_pool2d(F.relu(self.conv1(x)), (2, 2))\n",
        "        # If the size is a square you can only specify a single number\n",
        "        x = F.max_pool2d(F.relu(self.conv2(x)), 2)\n",
        "        x = x.view(-1, self.num_flat_features(x))          #----------> resizing with view function\n",
        "        x = F.relu(self.fc1(x))\n",
        "        x = F.relu(self.fc2(x))\n",
        "        x = self.fc3(x)\n",
        "        return x\n",
        "\n",
        "    def num_flat_features(self, x):\n",
        "        size = x.size()[1:]  # all dimensions except the batch dimension\n",
        "        num_features = 1\n",
        "        for s in size:\n",
        "            num_features *= s\n",
        "        return num_features\n",
        "\n",
        "\n",
        "net = network()\n",
        "print(net)"
      ]
    },
    {
      "cell_type": "markdown",
      "metadata": {
        "id": "ptJhU8GU2dzo"
      },
      "source": [
        "You just have to define the <mark style=\"background-color: yellow\">forward</mark>,  and the <mark style=\"background-color: yellow\">backward</mark> function (where gradients are computed) is automatically defined for you using autograd. You can use any of the Tensor operations in the <mark style=\"background-color: yellow\">forward</mark> function.\n",
        "\n",
        "The learnable parameters of a model are returned by <mark style=\"background-color: yellow\">net.parameters()</mark>."
      ]
    },
    {
      "cell_type": "code",
      "execution_count": null,
      "metadata": {
        "id": "DhCUS3TU2dzo",
        "outputId": "2395e406-2a40-44fe-f557-cda6b3d1dc15"
      },
      "outputs": [
        {
          "name": "stdout",
          "output_type": "stream",
          "text": [
            "10\n",
            "torch.Size([6, 1, 3, 3])\n"
          ]
        }
      ],
      "source": [
        "params = list(net.parameters())\n",
        "print(len(params))\n",
        "print(params[0].size())  # conv1's .weight"
      ]
    },
    {
      "cell_type": "markdown",
      "metadata": {
        "id": "bwyPw8Eq2dzp"
      },
      "source": [
        "Let’s try a random 32x32 input. Note: expected input size of this net (LeNet) is 32x32. To use this net on the MNIST dataset, please resize the images from the dataset to 32x32."
      ]
    },
    {
      "cell_type": "code",
      "execution_count": null,
      "metadata": {
        "id": "JnZmdgEE2dzp",
        "outputId": "2fd834e9-aa18-4f60-9d48-e798dffa439e"
      },
      "outputs": [
        {
          "name": "stdout",
          "output_type": "stream",
          "text": [
            "tensor([[-0.0925, -0.0211, -0.0522, -0.1359, -0.0891,  0.0101, -0.0334, -0.0502,\n",
            "         -0.1534, -0.0011]], grad_fn=<AddmmBackward0>)\n"
          ]
        }
      ],
      "source": [
        "inp = torch.randn(1, 1, 32, 32)\n",
        "out = net(inp)\n",
        "print(out)"
      ]
    },
    {
      "cell_type": "markdown",
      "metadata": {
        "id": "6XN04HQG2dzp"
      },
      "source": [
        "Zero the gradient buffers of all parameters and backprops with random gradients:"
      ]
    },
    {
      "cell_type": "code",
      "execution_count": null,
      "metadata": {
        "id": "tyio9bFn2dzq"
      },
      "outputs": [],
      "source": [
        "net.zero_grad()\n",
        "out.backward(torch.randn(1, 10))"
      ]
    },
    {
      "cell_type": "markdown",
      "metadata": {
        "id": "p1NdQ6e22dzq"
      },
      "source": [
        "__Note:__\n",
        "<mark style=\"background-color: yellow\">torch.nn</mark> only supports mini-batches. The entire <mark style=\"background-color: yellow\">torch.nn</mark> package only supports inputs that are a mini-batch of samples, and not a single sample.\n",
        "For example, <mark style=\"background-color: yellow\">nn.Conv2d</mark> will take in a 4D Tensor of <mark style=\"background-color: yellow\">nSamples x nChannels x Height x Width</mark>.\n",
        "If you have a single sample, just use <mark style=\"background-color: yellow\">input.unsqueeze(0)</mark> to add a fake batch dimension."
      ]
    },
    {
      "cell_type": "markdown",
      "metadata": {
        "id": "W6csnKHq2dzq"
      },
      "source": [
        "__At this point, we covered:__\n",
        "- Defined neutral network\n",
        "- Processing input and calling backward"
      ]
    },
    {
      "cell_type": "markdown",
      "metadata": {
        "id": "ks7ISiEW2dzq"
      },
      "source": [
        "### Loss Function\n",
        "\n",
        "A loss function takes the (output, target) pair of inputs, and computes a value that estimates how far away the output is from the target.\n",
        "There are several different loss functions under the nn package . A simple loss is: <mark style=\"background-color: yellow\">nn.MSELoss</mark> which computes the mean-squared error between the input and the target.\n",
        "    \n",
        "For example:"
      ]
    },
    {
      "cell_type": "code",
      "execution_count": null,
      "metadata": {
        "id": "_sMMGs7i2dzr",
        "outputId": "087bda65-13ef-41cf-dab9-c980d4b75df3"
      },
      "outputs": [
        {
          "name": "stdout",
          "output_type": "stream",
          "text": [
            "tensor(1.3845, grad_fn=<MseLossBackward0>)\n"
          ]
        }
      ],
      "source": [
        "output = net(inp)\n",
        "target = torch.randn(10)  # a dummy target, for example\n",
        "target = target.view(1, -1)  # make it the same shape as output\n",
        "criterion = nn.MSELoss()\n",
        "\n",
        "loss = criterion(output, target)\n",
        "print(loss)"
      ]
    },
    {
      "cell_type": "markdown",
      "metadata": {
        "id": "7p-8bAmi2dzr"
      },
      "source": [
        "Now, if you follow loss in the backward direction, using its <mark style=\"background-color: yellow\">.grad_fn</mark>attribute, you will see a graph of computations that looks like this:"
      ]
    },
    {
      "cell_type": "markdown",
      "metadata": {
        "id": "xoTMZf_o2dzr"
      },
      "source": [
        "input  ->   conv2d  ->   relu  ->   maxpool2d  ->   conv2d ->   relu  ->   maxpool2d\n",
        "      \n",
        "      -> view -> linear -> relu -> linear -> relu -> linear\n",
        "      \n",
        "      -> MSELoss\n",
        "      \n",
        "      -> loss"
      ]
    },
    {
      "cell_type": "markdown",
      "metadata": {
        "id": "g6CUvrjo2dzs"
      },
      "source": [
        "So, when we call <mark style=\"background-color: yellow\">loss.backward()</mark>, the whole graph is differentiated w.r.t. the loss, and all Tensors in the graph that has requires_grad=True will have their .grad Tensor accumulated with the gradient.\n",
        "\n",
        "\n",
        "For illustration, let us follow a few steps <mark style=\"background-color: yellow\">backward</mark>:"
      ]
    },
    {
      "cell_type": "code",
      "execution_count": null,
      "metadata": {
        "id": "fe_HZaSd2dzs",
        "outputId": "d2cc1893-c02b-4332-89b7-36b18a5676a8"
      },
      "outputs": [
        {
          "name": "stdout",
          "output_type": "stream",
          "text": [
            "<MseLossBackward0 object at 0x00000189BE376C40>\n",
            "<AddmmBackward0 object at 0x00000189BE3769A0>\n",
            "<AccumulateGrad object at 0x00000189BE376C40>\n"
          ]
        }
      ],
      "source": [
        "print(loss.grad_fn)  # MSELoss\n",
        "print(loss.grad_fn.next_functions[0][0])  # Linear\n",
        "print(loss.grad_fn.next_functions[0][0].next_functions[0][0])  # ReLU"
      ]
    },
    {
      "cell_type": "markdown",
      "metadata": {
        "id": "cih3Kfhk2dzt"
      },
      "source": [
        "### Backprop\n",
        "\n",
        "To backpropagate the error all we have to do is to <mark style=\"background-color: yellow\">loss.backward()</mark>. You need to clear the existing gradients though, else gradients will be accumulated to existing gradients.\n",
        "\n",
        "\n",
        "Now we shall call <mark style=\"background-color: yellow\">loss.backward()</mark>, and have a look at conv1’s bias gradients before and after the backward."
      ]
    },
    {
      "cell_type": "code",
      "execution_count": null,
      "metadata": {
        "id": "FOXkFTL12dzt",
        "outputId": "671b66f4-bd88-4b6e-e875-28f5abb5463b"
      },
      "outputs": [
        {
          "name": "stdout",
          "output_type": "stream",
          "text": [
            "conv1.bias.grad before backward\n",
            "tensor([0., 0., 0., 0., 0., 0.])\n",
            "conv1.bias.grad after backward\n",
            "tensor([-0.0162, -0.0175,  0.0009,  0.0051, -0.0124,  0.0038])\n"
          ]
        }
      ],
      "source": [
        "net.zero_grad()     # zeroes the gradient buffers of all parameters\n",
        "\n",
        "print('conv1.bias.grad before backward')\n",
        "print(net.conv1.bias.grad)\n",
        "\n",
        "loss.backward()\n",
        "\n",
        "print('conv1.bias.grad after backward')\n",
        "print(net.conv1.bias.grad)"
      ]
    },
    {
      "cell_type": "markdown",
      "metadata": {
        "id": "WhNUyQ0K2dzt"
      },
      "source": [
        "### Update the weights\n",
        "\n",
        "The simplest update rule used in practice is the Stochastic Gradient Descent (SGD):\n",
        "    \n",
        "   <mark style=\"background-color: yellow\"> weight = weight - learning_rate * gradient </mark>\n",
        "   \n",
        "We can implement this using simple Python code:"
      ]
    },
    {
      "cell_type": "code",
      "execution_count": null,
      "metadata": {
        "id": "gdIA2ff_2dzu"
      },
      "outputs": [],
      "source": [
        "learning_rate = 0.01\n",
        "for f in net.parameters():\n",
        "    f.data.sub_(f.grad.data * learning_rate)"
      ]
    },
    {
      "cell_type": "markdown",
      "metadata": {
        "id": "LMKPHOL72dzu"
      },
      "source": [
        "However, as you use neural networks, you want to use various different update rules such as SGD, Nesterov-SGD, Adam, RMSProp, etc. To enable this, we built a small package: torch.optim that implements all these methods. Using it is very simple:"
      ]
    },
    {
      "cell_type": "code",
      "execution_count": null,
      "metadata": {
        "id": "XXuAi5a62dzu"
      },
      "outputs": [],
      "source": [
        "import torch.optim as optim\n",
        "\n",
        "# create your optimizer\n",
        "optimizer = optim.SGD(net.parameters(), lr=0.01)\n",
        "\n",
        "# in your training loop:\n",
        "optimizer.zero_grad()   # zero the gradient buffers\n",
        "output = net(inp)\n",
        "loss = criterion(output, target)\n",
        "loss.backward()\n",
        "optimizer.step()    # Does the update"
      ]
    },
    {
      "cell_type": "markdown",
      "metadata": {
        "id": "3H8p_xpM2dzv"
      },
      "source": [
        "Observe how gradient buffers had to be manually set to zero using <mark style=\"background-color:yellow\">optimizer.zero_grad()</mark>. This is because gradients are accumulated as explained in the <mark style=\"font-color:red\">Backprop</mark> section."
      ]
    },
    {
      "cell_type": "code",
      "execution_count": null,
      "metadata": {
        "id": "cvVT_ppm2dzv"
      },
      "outputs": [],
      "source": [
        ""
      ]
    }
  ],
  "metadata": {
    "kernelspec": {
      "display_name": "Python 3 (ipykernel)",
      "language": "python",
      "name": "python3"
    },
    "language_info": {
      "codemirror_mode": {
        "name": "ipython",
        "version": 3
      },
      "file_extension": ".py",
      "mimetype": "text/x-python",
      "name": "python",
      "nbconvert_exporter": "python",
      "pygments_lexer": "ipython3",
      "version": "3.9.7"
    },
    "colab": {
      "name": "PyTorch 1.1.ipynb",
      "provenance": []
    }
  },
  "nbformat": 4,
  "nbformat_minor": 0
}