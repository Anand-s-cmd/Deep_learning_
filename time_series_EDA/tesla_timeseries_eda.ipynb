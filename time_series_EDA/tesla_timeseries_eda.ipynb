{
 "cells": [
  {
   "cell_type": "code",
   "execution_count": 1,
   "id": "4000f3f8",
   "metadata": {},
   "outputs": [
    {
     "name": "stdout",
     "output_type": "stream",
     "text": [
      "Defaulting to user installation because normal site-packages is not writeable\n",
      "Collecting pandas-datareader\n",
      "  Downloading pandas_datareader-0.10.0-py3-none-any.whl (109 kB)\n",
      "Requirement already satisfied: lxml in d:\\anaconda3\\lib\\site-packages (from pandas-datareader) (4.8.0)\n",
      "Requirement already satisfied: pandas>=0.23 in d:\\anaconda3\\lib\\site-packages (from pandas-datareader) (1.4.2)\n",
      "Requirement already satisfied: requests>=2.19.0 in d:\\anaconda3\\lib\\site-packages (from pandas-datareader) (2.27.1)\n",
      "Requirement already satisfied: python-dateutil>=2.8.1 in d:\\anaconda3\\lib\\site-packages (from pandas>=0.23->pandas-datareader) (2.8.2)\n",
      "Requirement already satisfied: pytz>=2020.1 in d:\\anaconda3\\lib\\site-packages (from pandas>=0.23->pandas-datareader) (2021.3)\n",
      "Requirement already satisfied: numpy>=1.18.5 in d:\\anaconda3\\lib\\site-packages (from pandas>=0.23->pandas-datareader) (1.21.5)\n",
      "Requirement already satisfied: six>=1.5 in d:\\anaconda3\\lib\\site-packages (from python-dateutil>=2.8.1->pandas>=0.23->pandas-datareader) (1.16.0)\n",
      "Requirement already satisfied: urllib3<1.27,>=1.21.1 in d:\\anaconda3\\lib\\site-packages (from requests>=2.19.0->pandas-datareader) (1.26.9)\n",
      "Requirement already satisfied: idna<4,>=2.5 in d:\\anaconda3\\lib\\site-packages (from requests>=2.19.0->pandas-datareader) (3.3)\n",
      "Requirement already satisfied: certifi>=2017.4.17 in d:\\anaconda3\\lib\\site-packages (from requests>=2.19.0->pandas-datareader) (2021.10.8)\n",
      "Requirement already satisfied: charset-normalizer~=2.0.0 in d:\\anaconda3\\lib\\site-packages (from requests>=2.19.0->pandas-datareader) (2.0.4)\n",
      "Installing collected packages: pandas-datareader\n",
      "Successfully installed pandas-datareader-0.10.0\n"
     ]
    }
   ],
   "source": [
    "## Install Pandas Data Reader\n",
    "!pip install pandas-datareader"
   ]
  },
  {
   "cell_type": "code",
   "execution_count": 2,
   "id": "81d377b6",
   "metadata": {},
   "outputs": [],
   "source": [
    "import pandas_datareader as pdr\n",
    "import pandas as pd\n",
    "from datetime import datetime"
   ]
  },
  {
   "cell_type": "code",
   "execution_count": 3,
   "id": "cac6a7de",
   "metadata": {},
   "outputs": [],
   "source": [
    "df_tesla=pdr.get_data_yahoo('TSLA') "
   ]
  },
  {
   "cell_type": "code",
   "execution_count": 4,
   "id": "cfa7702c",
   "metadata": {},
   "outputs": [
    {
     "data": {
      "text/html": [
       "<div>\n",
       "<style scoped>\n",
       "    .dataframe tbody tr th:only-of-type {\n",
       "        vertical-align: middle;\n",
       "    }\n",
       "\n",
       "    .dataframe tbody tr th {\n",
       "        vertical-align: top;\n",
       "    }\n",
       "\n",
       "    .dataframe thead th {\n",
       "        text-align: right;\n",
       "    }\n",
       "</style>\n",
       "<table border=\"1\" class=\"dataframe\">\n",
       "  <thead>\n",
       "    <tr style=\"text-align: right;\">\n",
       "      <th></th>\n",
       "      <th>High</th>\n",
       "      <th>Low</th>\n",
       "      <th>Open</th>\n",
       "      <th>Close</th>\n",
       "      <th>Volume</th>\n",
       "      <th>Adj Close</th>\n",
       "    </tr>\n",
       "    <tr>\n",
       "      <th>Date</th>\n",
       "      <th></th>\n",
       "      <th></th>\n",
       "      <th></th>\n",
       "      <th></th>\n",
       "      <th></th>\n",
       "      <th></th>\n",
       "    </tr>\n",
       "  </thead>\n",
       "  <tbody>\n",
       "    <tr>\n",
       "      <th>2022-09-28</th>\n",
       "      <td>289.000000</td>\n",
       "      <td>277.570007</td>\n",
       "      <td>283.079987</td>\n",
       "      <td>287.809998</td>\n",
       "      <td>54664800.0</td>\n",
       "      <td>287.809998</td>\n",
       "    </tr>\n",
       "    <tr>\n",
       "      <th>2022-09-29</th>\n",
       "      <td>283.649994</td>\n",
       "      <td>265.779999</td>\n",
       "      <td>282.760010</td>\n",
       "      <td>268.209991</td>\n",
       "      <td>77620600.0</td>\n",
       "      <td>268.209991</td>\n",
       "    </tr>\n",
       "    <tr>\n",
       "      <th>2022-09-30</th>\n",
       "      <td>275.570007</td>\n",
       "      <td>262.470001</td>\n",
       "      <td>266.149994</td>\n",
       "      <td>265.250000</td>\n",
       "      <td>67517800.0</td>\n",
       "      <td>265.250000</td>\n",
       "    </tr>\n",
       "    <tr>\n",
       "      <th>2022-10-03</th>\n",
       "      <td>255.160004</td>\n",
       "      <td>241.009995</td>\n",
       "      <td>254.500000</td>\n",
       "      <td>242.399994</td>\n",
       "      <td>98363500.0</td>\n",
       "      <td>242.399994</td>\n",
       "    </tr>\n",
       "    <tr>\n",
       "      <th>2022-10-04</th>\n",
       "      <td>257.500000</td>\n",
       "      <td>242.009995</td>\n",
       "      <td>250.520004</td>\n",
       "      <td>249.440002</td>\n",
       "      <td>109344200.0</td>\n",
       "      <td>249.440002</td>\n",
       "    </tr>\n",
       "  </tbody>\n",
       "</table>\n",
       "</div>"
      ],
      "text/plain": [
       "                  High         Low        Open       Close       Volume  \\\n",
       "Date                                                                      \n",
       "2022-09-28  289.000000  277.570007  283.079987  287.809998   54664800.0   \n",
       "2022-09-29  283.649994  265.779999  282.760010  268.209991   77620600.0   \n",
       "2022-09-30  275.570007  262.470001  266.149994  265.250000   67517800.0   \n",
       "2022-10-03  255.160004  241.009995  254.500000  242.399994   98363500.0   \n",
       "2022-10-04  257.500000  242.009995  250.520004  249.440002  109344200.0   \n",
       "\n",
       "             Adj Close  \n",
       "Date                    \n",
       "2022-09-28  287.809998  \n",
       "2022-09-29  268.209991  \n",
       "2022-09-30  265.250000  \n",
       "2022-10-03  242.399994  \n",
       "2022-10-04  249.440002  "
      ]
     },
     "execution_count": 4,
     "metadata": {},
     "output_type": "execute_result"
    }
   ],
   "source": [
    "df_tesla.tail()"
   ]
  },
  {
   "cell_type": "code",
   "execution_count": 5,
   "id": "b43e8704",
   "metadata": {},
   "outputs": [
    {
     "data": {
      "text/plain": [
       "<AxesSubplot:xlabel='Date'>"
      ]
     },
     "execution_count": 5,
     "metadata": {},
     "output_type": "execute_result"
    },
    {
     "data": {
      "image/png": "[encoded data removed]",
      "text/plain": [
       "<Figure size 864x288 with 1 Axes>"
      ]
     },
     "metadata": {
      "needs_background": "light"
     },
     "output_type": "display_data"
    }
   ],
   "source": [
    "df_tesla['High'].plot(figsize=(12,4))"
   ]
  },
  {
   "cell_type": "code",
   "execution_count": 6,
   "id": "2e39b70f",
   "metadata": {},
   "outputs": [
    {
     "data": {
      "text/plain": [
       "<AxesSubplot:xlabel='Date'>"
      ]
     },
     "execution_count": 6,
     "metadata": {},
     "output_type": "execute_result"
    },
    {
     "data": {
      "image/png": "[encoded data removed]",
      "text/plain": [
       "<Figure size 864x288 with 1 Axes>"
      ]
     },
     "metadata": {
      "needs_background": "light"
     },
     "output_type": "display_data"
    }
   ],
   "source": [
    "## xlimit and y limit\n",
    "df_tesla['High'].plot(xlim=['2020-01-01','2021-09-01'],figsize=(12,4))"
   ]
  },
  {
   "cell_type": "code",
   "execution_count": 7,
   "id": "0b7c67d7",
   "metadata": {},
   "outputs": [
    {
     "data": {
      "text/plain": [
       "<AxesSubplot:xlabel='Date'>"
      ]
     },
     "execution_count": 7,
     "metadata": {},
     "output_type": "execute_result"
    },
    {
     "data": {
      "image/png": "[encoded data removed]",
      "text/plain": [
       "<Figure size 864x288 with 1 Axes>"
      ]
     },
     "metadata": {
      "needs_background": "light"
     },
     "output_type": "display_data"
    }
   ],
   "source": [
    "## xlimit and y limit\n",
    "df_tesla['High'].plot(xlim=['2020-01-01','2021-09-01'],ylim=[0,900],figsize=(12,4))"
   ]
  },
  {
   "cell_type": "code",
   "execution_count": 8,
   "id": "0cc0fe88",
   "metadata": {},
   "outputs": [
    {
     "data": {
      "text/plain": [
       "<AxesSubplot:xlabel='Date'>"
      ]
     },
     "execution_count": 8,
     "metadata": {},
     "output_type": "execute_result"
    },
    {
     "data": {
      "image/png": "[encoded data removed]",
      "text/plain": [
       "<Figure size 864x288 with 1 Axes>"
      ]
     },
     "metadata": {
      "needs_background": "light"
     },
     "output_type": "display_data"
    }
   ],
   "source": [
    "## xlimit and y limit and coloring\n",
    "df_tesla['High'].plot(xlim=['2020-01-01','2021-09-01'],ylim=[0,900],figsize=(12,4),ls='--',c='green')"
   ]
  },
  {
   "cell_type": "code",
   "execution_count": 9,
   "id": "67870a47",
   "metadata": {},
   "outputs": [
    {
     "data": {
      "text/plain": [
       "DatetimeIndex(['2017-10-05', '2017-10-06', '2017-10-09', '2017-10-10',\n",
       "               '2017-10-11', '2017-10-12', '2017-10-13', '2017-10-16',\n",
       "               '2017-10-17', '2017-10-18',\n",
       "               ...\n",
       "               '2022-09-21', '2022-09-22', '2022-09-23', '2022-09-26',\n",
       "               '2022-09-27', '2022-09-28', '2022-09-29', '2022-09-30',\n",
       "               '2022-10-03', '2022-10-04'],\n",
       "              dtype='datetime64[ns]', name='Date', length=1258, freq=None)"
      ]
     },
     "execution_count": 9,
     "metadata": {},
     "output_type": "execute_result"
    }
   ],
   "source": [
    "df_tesla.index"
   ]
  },
  {
   "cell_type": "code",
   "execution_count": 10,
   "id": "b8169257",
   "metadata": {},
   "outputs": [],
   "source": [
    "index=df_tesla.loc['2020-01-01':'2021-09-01'].index\n",
    "share_open=df_tesla.loc['2020-01-01':'2021-09-01']['Open']"
   ]
  },
  {
   "cell_type": "code",
   "execution_count": 11,
   "id": "34b1a910",
   "metadata": {},
   "outputs": [
    {
     "data": {
      "text/plain": [
       "Date\n",
       "2020-01-02     28.299999\n",
       "2020-01-03     29.366667\n",
       "2020-01-06     29.364668\n",
       "2020-01-07     30.760000\n",
       "2020-01-08     31.580000\n",
       "                 ...    \n",
       "2021-08-26    236.103333\n",
       "2021-08-27    235.000000\n",
       "2021-08-30    238.240005\n",
       "2021-08-31    244.333328\n",
       "2021-09-01    244.693329\n",
       "Name: Open, Length: 421, dtype: float64"
      ]
     },
     "execution_count": 11,
     "metadata": {},
     "output_type": "execute_result"
    }
   ],
   "source": [
    "share_open"
   ]
  },
  {
   "cell_type": "code",
   "execution_count": 12,
   "id": "3a49f903",
   "metadata": {},
   "outputs": [
    {
     "data": {
      "text/plain": [
       "DatetimeIndex(['2020-01-02', '2020-01-03', '2020-01-06', '2020-01-07',\n",
       "               '2020-01-08', '2020-01-09', '2020-01-10', '2020-01-13',\n",
       "               '2020-01-14', '2020-01-15',\n",
       "               ...\n",
       "               '2021-08-19', '2021-08-20', '2021-08-23', '2021-08-24',\n",
       "               '2021-08-25', '2021-08-26', '2021-08-27', '2021-08-30',\n",
       "               '2021-08-31', '2021-09-01'],\n",
       "              dtype='datetime64[ns]', name='Date', length=421, freq=None)"
      ]
     },
     "execution_count": 12,
     "metadata": {},
     "output_type": "execute_result"
    }
   ],
   "source": [
    "index"
   ]
  },
  {
   "cell_type": "code",
   "execution_count": 13,
   "id": "047485b0",
   "metadata": {},
   "outputs": [],
   "source": [
    "import matplotlib.pyplot as plt\n",
    "%matplotlib inline"
   ]
  },
  {
   "cell_type": "code",
   "execution_count": 14,
   "id": "9f69fe28",
   "metadata": {},
   "outputs": [
    {
     "data": {
      "text/plain": [
       "[<matplotlib.lines.Line2D at 0x1b64a608be0>]"
      ]
     },
     "execution_count": 14,
     "metadata": {},
     "output_type": "execute_result"
    },
    {
     "data": {
      "image/png": "[encoded data removed]",
      "text/plain": [
       "<Figure size 432x288 with 1 Axes>"
      ]
     },
     "metadata": {
      "needs_background": "light"
     },
     "output_type": "display_data"
    }
   ],
   "source": [
    "figure,axis=plt.subplots()\n",
    "plt.tight_layout()\n",
    "## Preventing overlapping\n",
    "figure.autofmt_xdate()\n",
    "axis.plot(index,share_open)"
   ]
  },
  {
   "cell_type": "code",
   "execution_count": 15,
   "id": "b0403e42",
   "metadata": {},
   "outputs": [],
   "source": [
    "## Datetime Index\n",
    "df_tesla=df_tesla.reset_index()"
   ]
  },
  {
   "cell_type": "code",
   "execution_count": 16,
   "id": "cb4e3859",
   "metadata": {},
   "outputs": [
    {
     "name": "stdout",
     "output_type": "stream",
     "text": [
      "<class 'pandas.core.frame.DataFrame'>\n",
      "RangeIndex: 1258 entries, 0 to 1257\n",
      "Data columns (total 7 columns):\n",
      " #   Column     Non-Null Count  Dtype         \n",
      "---  ------     --------------  -----         \n",
      " 0   Date       1258 non-null   datetime64[ns]\n",
      " 1   High       1258 non-null   float64       \n",
      " 2   Low        1258 non-null   float64       \n",
      " 3   Open       1258 non-null   float64       \n",
      " 4   Close      1258 non-null   float64       \n",
      " 5   Volume     1258 non-null   float64       \n",
      " 6   Adj Close  1258 non-null   float64       \n",
      "dtypes: datetime64[ns](1), float64(6)\n",
      "memory usage: 68.9 KB\n"
     ]
    }
   ],
   "source": [
    "df_tesla.info()"
   ]
  },
  {
   "cell_type": "code",
   "execution_count": 17,
   "id": "f5ace9f6",
   "metadata": {},
   "outputs": [],
   "source": [
    "df_tesla=df_tesla.set_index('Date',drop=True)"
   ]
  },
  {
   "cell_type": "code",
   "execution_count": 18,
   "id": "4fef6c1d",
   "metadata": {},
   "outputs": [
    {
     "data": {
      "text/html": [
       "<div>\n",
       "<style scoped>\n",
       "    .dataframe tbody tr th:only-of-type {\n",
       "        vertical-align: middle;\n",
       "    }\n",
       "\n",
       "    .dataframe tbody tr th {\n",
       "        vertical-align: top;\n",
       "    }\n",
       "\n",
       "    .dataframe thead th {\n",
       "        text-align: right;\n",
       "    }\n",
       "</style>\n",
       "<table border=\"1\" class=\"dataframe\">\n",
       "  <thead>\n",
       "    <tr style=\"text-align: right;\">\n",
       "      <th></th>\n",
       "      <th>High</th>\n",
       "      <th>Low</th>\n",
       "      <th>Open</th>\n",
       "      <th>Close</th>\n",
       "      <th>Volume</th>\n",
       "      <th>Adj Close</th>\n",
       "    </tr>\n",
       "    <tr>\n",
       "      <th>Date</th>\n",
       "      <th></th>\n",
       "      <th></th>\n",
       "      <th></th>\n",
       "      <th></th>\n",
       "      <th></th>\n",
       "      <th></th>\n",
       "    </tr>\n",
       "  </thead>\n",
       "  <tbody>\n",
       "    <tr>\n",
       "      <th>2017-10-05</th>\n",
       "      <td>23.829332</td>\n",
       "      <td>23.423332</td>\n",
       "      <td>23.733334</td>\n",
       "      <td>23.688667</td>\n",
       "      <td>62575500.0</td>\n",
       "      <td>23.688667</td>\n",
       "    </tr>\n",
       "    <tr>\n",
       "      <th>2017-10-06</th>\n",
       "      <td>24.006666</td>\n",
       "      <td>23.483334</td>\n",
       "      <td>23.540001</td>\n",
       "      <td>23.792000</td>\n",
       "      <td>64462500.0</td>\n",
       "      <td>23.792000</td>\n",
       "    </tr>\n",
       "    <tr>\n",
       "      <th>2017-10-09</th>\n",
       "      <td>23.450001</td>\n",
       "      <td>22.844667</td>\n",
       "      <td>23.309999</td>\n",
       "      <td>22.862667</td>\n",
       "      <td>112405500.0</td>\n",
       "      <td>22.862667</td>\n",
       "    </tr>\n",
       "    <tr>\n",
       "      <th>2017-10-10</th>\n",
       "      <td>23.708668</td>\n",
       "      <td>23.035334</td>\n",
       "      <td>23.120001</td>\n",
       "      <td>23.705999</td>\n",
       "      <td>104677500.0</td>\n",
       "      <td>23.705999</td>\n",
       "    </tr>\n",
       "    <tr>\n",
       "      <th>2017-10-11</th>\n",
       "      <td>23.840000</td>\n",
       "      <td>23.410000</td>\n",
       "      <td>23.592667</td>\n",
       "      <td>23.639999</td>\n",
       "      <td>67512000.0</td>\n",
       "      <td>23.639999</td>\n",
       "    </tr>\n",
       "  </tbody>\n",
       "</table>\n",
       "</div>"
      ],
      "text/plain": [
       "                 High        Low       Open      Close       Volume  Adj Close\n",
       "Date                                                                          \n",
       "2017-10-05  23.829332  23.423332  23.733334  23.688667   62575500.0  23.688667\n",
       "2017-10-06  24.006666  23.483334  23.540001  23.792000   64462500.0  23.792000\n",
       "2017-10-09  23.450001  22.844667  23.309999  22.862667  112405500.0  22.862667\n",
       "2017-10-10  23.708668  23.035334  23.120001  23.705999  104677500.0  23.705999\n",
       "2017-10-11  23.840000  23.410000  23.592667  23.639999   67512000.0  23.639999"
      ]
     },
     "execution_count": 18,
     "metadata": {},
     "output_type": "execute_result"
    }
   ],
   "source": [
    "df_tesla.head()"
   ]
  },
  {
   "cell_type": "code",
   "execution_count": 19,
   "id": "d4248c9b",
   "metadata": {},
   "outputs": [],
   "source": [
    "## datetime\n",
    "from datetime import datetime"
   ]
  },
  {
   "cell_type": "code",
   "execution_count": 20,
   "id": "8b1a1c8e",
   "metadata": {},
   "outputs": [
    {
     "data": {
      "text/plain": [
       "datetime.datetime(2021, 11, 21, 0, 0)"
      ]
     },
     "execution_count": 20,
     "metadata": {},
     "output_type": "execute_result"
    }
   ],
   "source": [
    "datetime(2021,11,21)"
   ]
  },
  {
   "cell_type": "code",
   "execution_count": 21,
   "id": "58c6e018",
   "metadata": {},
   "outputs": [
    {
     "data": {
      "text/plain": [
       "datetime.datetime(2022, 10, 5, 18, 39, 29, 710438)"
      ]
     },
     "execution_count": 21,
     "metadata": {},
     "output_type": "execute_result"
    }
   ],
   "source": [
    "datetime.now()"
   ]
  },
  {
   "cell_type": "code",
   "execution_count": 22,
   "id": "c62e6993",
   "metadata": {},
   "outputs": [],
   "source": [
    "date=datetime(2021,11,21)"
   ]
  },
  {
   "cell_type": "code",
   "execution_count": 23,
   "id": "5a99081f",
   "metadata": {},
   "outputs": [
    {
     "data": {
      "text/plain": [
       "datetime.datetime(2021, 11, 21, 0, 0)"
      ]
     },
     "execution_count": 23,
     "metadata": {},
     "output_type": "execute_result"
    }
   ],
   "source": [
    "date"
   ]
  },
  {
   "cell_type": "code",
   "execution_count": 24,
   "id": "d4c92cea",
   "metadata": {},
   "outputs": [
    {
     "data": {
      "text/plain": [
       "datetime.date(2021, 11, 21)"
      ]
     },
     "execution_count": 24,
     "metadata": {},
     "output_type": "execute_result"
    }
   ],
   "source": [
    "date.date()"
   ]
  },
  {
   "cell_type": "code",
   "execution_count": 25,
   "id": "24bd21ea",
   "metadata": {},
   "outputs": [
    {
     "data": {
      "text/plain": [
       "21"
      ]
     },
     "execution_count": 25,
     "metadata": {},
     "output_type": "execute_result"
    }
   ],
   "source": [
    "date.day"
   ]
  },
  {
   "cell_type": "code",
   "execution_count": 26,
   "id": "e0a6b00d",
   "metadata": {},
   "outputs": [
    {
     "data": {
      "text/plain": [
       "6"
      ]
     },
     "execution_count": 26,
     "metadata": {},
     "output_type": "execute_result"
    }
   ],
   "source": [
    "date.weekday()"
   ]
  },
  {
   "cell_type": "code",
   "execution_count": 27,
   "id": "d1c739df",
   "metadata": {},
   "outputs": [
    {
     "data": {
      "text/plain": [
       "2021"
      ]
     },
     "execution_count": 27,
     "metadata": {},
     "output_type": "execute_result"
    }
   ],
   "source": [
    "date.year "
   ]
  },
  {
   "cell_type": "code",
   "execution_count": 28,
   "id": "512db943",
   "metadata": {},
   "outputs": [
    {
     "data": {
      "text/plain": [
       "11"
      ]
     },
     "execution_count": 28,
     "metadata": {},
     "output_type": "execute_result"
    }
   ],
   "source": [
    "date.month"
   ]
  },
  {
   "cell_type": "markdown",
   "id": "66e087e8",
   "metadata": {},
   "source": [
    "Time Resampling"
   ]
  },
  {
   "cell_type": "code",
   "execution_count": 29,
   "id": "c7cb2c33",
   "metadata": {},
   "outputs": [
    {
     "data": {
      "text/html": [
       "<div>\n",
       "<style scoped>\n",
       "    .dataframe tbody tr th:only-of-type {\n",
       "        vertical-align: middle;\n",
       "    }\n",
       "\n",
       "    .dataframe tbody tr th {\n",
       "        vertical-align: top;\n",
       "    }\n",
       "\n",
       "    .dataframe thead th {\n",
       "        text-align: right;\n",
       "    }\n",
       "</style>\n",
       "<table border=\"1\" class=\"dataframe\">\n",
       "  <thead>\n",
       "    <tr style=\"text-align: right;\">\n",
       "      <th></th>\n",
       "      <th>High</th>\n",
       "      <th>Low</th>\n",
       "      <th>Open</th>\n",
       "      <th>Close</th>\n",
       "      <th>Volume</th>\n",
       "      <th>Adj Close</th>\n",
       "    </tr>\n",
       "    <tr>\n",
       "      <th>Date</th>\n",
       "      <th></th>\n",
       "      <th></th>\n",
       "      <th></th>\n",
       "      <th></th>\n",
       "      <th></th>\n",
       "      <th></th>\n",
       "    </tr>\n",
       "  </thead>\n",
       "  <tbody>\n",
       "    <tr>\n",
       "      <th>2017-10-05</th>\n",
       "      <td>23.829332</td>\n",
       "      <td>23.423332</td>\n",
       "      <td>23.733334</td>\n",
       "      <td>23.688667</td>\n",
       "      <td>62575500.0</td>\n",
       "      <td>23.688667</td>\n",
       "    </tr>\n",
       "    <tr>\n",
       "      <th>2017-10-06</th>\n",
       "      <td>24.006666</td>\n",
       "      <td>23.483334</td>\n",
       "      <td>23.540001</td>\n",
       "      <td>23.792000</td>\n",
       "      <td>64462500.0</td>\n",
       "      <td>23.792000</td>\n",
       "    </tr>\n",
       "    <tr>\n",
       "      <th>2017-10-09</th>\n",
       "      <td>23.450001</td>\n",
       "      <td>22.844667</td>\n",
       "      <td>23.309999</td>\n",
       "      <td>22.862667</td>\n",
       "      <td>112405500.0</td>\n",
       "      <td>22.862667</td>\n",
       "    </tr>\n",
       "    <tr>\n",
       "      <th>2017-10-10</th>\n",
       "      <td>23.708668</td>\n",
       "      <td>23.035334</td>\n",
       "      <td>23.120001</td>\n",
       "      <td>23.705999</td>\n",
       "      <td>104677500.0</td>\n",
       "      <td>23.705999</td>\n",
       "    </tr>\n",
       "    <tr>\n",
       "      <th>2017-10-11</th>\n",
       "      <td>23.840000</td>\n",
       "      <td>23.410000</td>\n",
       "      <td>23.592667</td>\n",
       "      <td>23.639999</td>\n",
       "      <td>67512000.0</td>\n",
       "      <td>23.639999</td>\n",
       "    </tr>\n",
       "  </tbody>\n",
       "</table>\n",
       "</div>"
      ],
      "text/plain": [
       "                 High        Low       Open      Close       Volume  Adj Close\n",
       "Date                                                                          \n",
       "2017-10-05  23.829332  23.423332  23.733334  23.688667   62575500.0  23.688667\n",
       "2017-10-06  24.006666  23.483334  23.540001  23.792000   64462500.0  23.792000\n",
       "2017-10-09  23.450001  22.844667  23.309999  22.862667  112405500.0  22.862667\n",
       "2017-10-10  23.708668  23.035334  23.120001  23.705999  104677500.0  23.705999\n",
       "2017-10-11  23.840000  23.410000  23.592667  23.639999   67512000.0  23.639999"
      ]
     },
     "execution_count": 29,
     "metadata": {},
     "output_type": "execute_result"
    }
   ],
   "source": [
    "df_tesla.head()"
   ]
  },
  {
   "cell_type": "code",
   "execution_count": 30,
   "id": "451ac7e4",
   "metadata": {},
   "outputs": [
    {
     "data": {
      "text/html": [
       "<div>\n",
       "<style scoped>\n",
       "    .dataframe tbody tr th:only-of-type {\n",
       "        vertical-align: middle;\n",
       "    }\n",
       "\n",
       "    .dataframe tbody tr th {\n",
       "        vertical-align: top;\n",
       "    }\n",
       "\n",
       "    .dataframe thead th {\n",
       "        text-align: right;\n",
       "    }\n",
       "</style>\n",
       "<table border=\"1\" class=\"dataframe\">\n",
       "  <thead>\n",
       "    <tr style=\"text-align: right;\">\n",
       "      <th></th>\n",
       "      <th>High</th>\n",
       "      <th>Low</th>\n",
       "      <th>Open</th>\n",
       "      <th>Close</th>\n",
       "      <th>Volume</th>\n",
       "      <th>Adj Close</th>\n",
       "    </tr>\n",
       "    <tr>\n",
       "      <th>Date</th>\n",
       "      <th></th>\n",
       "      <th></th>\n",
       "      <th></th>\n",
       "      <th></th>\n",
       "      <th></th>\n",
       "      <th></th>\n",
       "    </tr>\n",
       "  </thead>\n",
       "  <tbody>\n",
       "    <tr>\n",
       "      <th>2017-12-31</th>\n",
       "      <td>20.297333</td>\n",
       "      <td>19.508667</td>\n",
       "      <td>19.966667</td>\n",
       "      <td>19.950666</td>\n",
       "      <td>48661500.0</td>\n",
       "      <td>19.950666</td>\n",
       "    </tr>\n",
       "    <tr>\n",
       "      <th>2018-12-31</th>\n",
       "      <td>17.355333</td>\n",
       "      <td>16.306000</td>\n",
       "      <td>16.851999</td>\n",
       "      <td>16.704000</td>\n",
       "      <td>46210500.0</td>\n",
       "      <td>16.704000</td>\n",
       "    </tr>\n",
       "    <tr>\n",
       "      <th>2019-12-31</th>\n",
       "      <td>12.445333</td>\n",
       "      <td>11.799333</td>\n",
       "      <td>12.073333</td>\n",
       "      <td>11.931333</td>\n",
       "      <td>36984000.0</td>\n",
       "      <td>11.931333</td>\n",
       "    </tr>\n",
       "    <tr>\n",
       "      <th>2020-12-31</th>\n",
       "      <td>26.990667</td>\n",
       "      <td>23.367332</td>\n",
       "      <td>24.980000</td>\n",
       "      <td>24.081333</td>\n",
       "      <td>52073100.0</td>\n",
       "      <td>24.081333</td>\n",
       "    </tr>\n",
       "    <tr>\n",
       "      <th>2021-12-31</th>\n",
       "      <td>188.736664</td>\n",
       "      <td>179.830002</td>\n",
       "      <td>184.183334</td>\n",
       "      <td>187.666672</td>\n",
       "      <td>29401800.0</td>\n",
       "      <td>187.666672</td>\n",
       "    </tr>\n",
       "    <tr>\n",
       "      <th>2022-12-31</th>\n",
       "      <td>217.973328</td>\n",
       "      <td>206.856674</td>\n",
       "      <td>207.949997</td>\n",
       "      <td>209.386673</td>\n",
       "      <td>41864700.0</td>\n",
       "      <td>209.386673</td>\n",
       "    </tr>\n",
       "  </tbody>\n",
       "</table>\n",
       "</div>"
      ],
      "text/plain": [
       "                  High         Low        Open       Close      Volume  \\\n",
       "Date                                                                     \n",
       "2017-12-31   20.297333   19.508667   19.966667   19.950666  48661500.0   \n",
       "2018-12-31   17.355333   16.306000   16.851999   16.704000  46210500.0   \n",
       "2019-12-31   12.445333   11.799333   12.073333   11.931333  36984000.0   \n",
       "2020-12-31   26.990667   23.367332   24.980000   24.081333  52073100.0   \n",
       "2021-12-31  188.736664  179.830002  184.183334  187.666672  29401800.0   \n",
       "2022-12-31  217.973328  206.856674  207.949997  209.386673  41864700.0   \n",
       "\n",
       "             Adj Close  \n",
       "Date                    \n",
       "2017-12-31   19.950666  \n",
       "2018-12-31   16.704000  \n",
       "2019-12-31   11.931333  \n",
       "2020-12-31   24.081333  \n",
       "2021-12-31  187.666672  \n",
       "2022-12-31  209.386673  "
      ]
     },
     "execution_count": 30,
     "metadata": {},
     "output_type": "execute_result"
    }
   ],
   "source": [
    "df_tesla.resample(rule='A').min()"
   ]
  },
  {
   "cell_type": "code",
   "execution_count": 31,
   "id": "7a518902",
   "metadata": {},
   "outputs": [
    {
     "data": {
      "text/html": [
       "<div>\n",
       "<style scoped>\n",
       "    .dataframe tbody tr th:only-of-type {\n",
       "        vertical-align: middle;\n",
       "    }\n",
       "\n",
       "    .dataframe tbody tr th {\n",
       "        vertical-align: top;\n",
       "    }\n",
       "\n",
       "    .dataframe thead th {\n",
       "        text-align: right;\n",
       "    }\n",
       "</style>\n",
       "<table border=\"1\" class=\"dataframe\">\n",
       "  <thead>\n",
       "    <tr style=\"text-align: right;\">\n",
       "      <th></th>\n",
       "      <th>High</th>\n",
       "      <th>Low</th>\n",
       "      <th>Open</th>\n",
       "      <th>Close</th>\n",
       "      <th>Volume</th>\n",
       "      <th>Adj Close</th>\n",
       "    </tr>\n",
       "    <tr>\n",
       "      <th>Date</th>\n",
       "      <th></th>\n",
       "      <th></th>\n",
       "      <th></th>\n",
       "      <th></th>\n",
       "      <th></th>\n",
       "      <th></th>\n",
       "    </tr>\n",
       "  </thead>\n",
       "  <tbody>\n",
       "    <tr>\n",
       "      <th>2017-12-31</th>\n",
       "      <td>24.200001</td>\n",
       "      <td>23.608667</td>\n",
       "      <td>23.798668</td>\n",
       "      <td>23.976667</td>\n",
       "      <td>296871000.0</td>\n",
       "      <td>23.976667</td>\n",
       "    </tr>\n",
       "    <tr>\n",
       "      <th>2018-12-31</th>\n",
       "      <td>25.830667</td>\n",
       "      <td>24.474667</td>\n",
       "      <td>25.000000</td>\n",
       "      <td>25.304667</td>\n",
       "      <td>504745500.0</td>\n",
       "      <td>25.304667</td>\n",
       "    </tr>\n",
       "    <tr>\n",
       "      <th>2019-12-31</th>\n",
       "      <td>29.020666</td>\n",
       "      <td>28.423332</td>\n",
       "      <td>29.000000</td>\n",
       "      <td>28.729334</td>\n",
       "      <td>450091500.0</td>\n",
       "      <td>28.729334</td>\n",
       "    </tr>\n",
       "    <tr>\n",
       "      <th>2020-12-31</th>\n",
       "      <td>239.573334</td>\n",
       "      <td>230.373337</td>\n",
       "      <td>233.330002</td>\n",
       "      <td>235.223328</td>\n",
       "      <td>914082000.0</td>\n",
       "      <td>235.223328</td>\n",
       "    </tr>\n",
       "    <tr>\n",
       "      <th>2021-12-31</th>\n",
       "      <td>414.496674</td>\n",
       "      <td>405.666656</td>\n",
       "      <td>411.470001</td>\n",
       "      <td>409.970001</td>\n",
       "      <td>268189500.0</td>\n",
       "      <td>409.970001</td>\n",
       "    </tr>\n",
       "    <tr>\n",
       "      <th>2022-12-31</th>\n",
       "      <td>402.666656</td>\n",
       "      <td>378.679993</td>\n",
       "      <td>396.516663</td>\n",
       "      <td>399.926666</td>\n",
       "      <td>151565700.0</td>\n",
       "      <td>399.926666</td>\n",
       "    </tr>\n",
       "  </tbody>\n",
       "</table>\n",
       "</div>"
      ],
      "text/plain": [
       "                  High         Low        Open       Close       Volume  \\\n",
       "Date                                                                      \n",
       "2017-12-31   24.200001   23.608667   23.798668   23.976667  296871000.0   \n",
       "2018-12-31   25.830667   24.474667   25.000000   25.304667  504745500.0   \n",
       "2019-12-31   29.020666   28.423332   29.000000   28.729334  450091500.0   \n",
       "2020-12-31  239.573334  230.373337  233.330002  235.223328  914082000.0   \n",
       "2021-12-31  414.496674  405.666656  411.470001  409.970001  268189500.0   \n",
       "2022-12-31  402.666656  378.679993  396.516663  399.926666  151565700.0   \n",
       "\n",
       "             Adj Close  \n",
       "Date                    \n",
       "2017-12-31   23.976667  \n",
       "2018-12-31   25.304667  \n",
       "2019-12-31   28.729334  \n",
       "2020-12-31  235.223328  \n",
       "2021-12-31  409.970001  \n",
       "2022-12-31  399.926666  "
      ]
     },
     "execution_count": 31,
     "metadata": {},
     "output_type": "execute_result"
    }
   ],
   "source": [
    "df_tesla.resample(rule='A').max()"
   ]
  },
  {
   "cell_type": "code",
   "execution_count": 32,
   "id": "ff51ac70",
   "metadata": {},
   "outputs": [
    {
     "data": {
      "text/plain": [
       "<AxesSubplot:xlabel='Date'>"
      ]
     },
     "execution_count": 32,
     "metadata": {},
     "output_type": "execute_result"
    },
    {
     "data": {
      "image/png": "[encoded data removed]",
      "text/plain": [
       "<Figure size 432x288 with 1 Axes>"
      ]
     },
     "metadata": {
      "needs_background": "light"
     },
     "output_type": "display_data"
    }
   ],
   "source": [
    "##year end frequency\n",
    "df_tesla.resample(rule='A').max()['Open'].plot()"
   ]
  },
  {
   "cell_type": "code",
   "execution_count": 33,
   "id": "46b8fb72",
   "metadata": {},
   "outputs": [
    {
     "data": {
      "text/plain": [
       "<AxesSubplot:xlabel='Date'>"
      ]
     },
     "execution_count": 33,
     "metadata": {},
     "output_type": "execute_result"
    },
    {
     "data": {
      "image/png": "[encoded data removed]",
      "text/plain": [
       "<Figure size 432x288 with 1 Axes>"
      ]
     },
     "metadata": {
      "needs_background": "light"
     },
     "output_type": "display_data"
    }
   ],
   "source": [
    "##quaterly start frequency\n",
    "##https://towardsdatascience.com/resample-function-of-pandas-79b17ec82a78\n",
    "df_tesla.resample(rule='QS').max()['High'].plot()"
   ]
  },
  {
   "cell_type": "code",
   "execution_count": 34,
   "id": "b7b64724",
   "metadata": {},
   "outputs": [
    {
     "data": {
      "text/html": [
       "<div>\n",
       "<style scoped>\n",
       "    .dataframe tbody tr th:only-of-type {\n",
       "        vertical-align: middle;\n",
       "    }\n",
       "\n",
       "    .dataframe tbody tr th {\n",
       "        vertical-align: top;\n",
       "    }\n",
       "\n",
       "    .dataframe thead th {\n",
       "        text-align: right;\n",
       "    }\n",
       "</style>\n",
       "<table border=\"1\" class=\"dataframe\">\n",
       "  <thead>\n",
       "    <tr style=\"text-align: right;\">\n",
       "      <th></th>\n",
       "      <th>High</th>\n",
       "      <th>Low</th>\n",
       "      <th>Open</th>\n",
       "      <th>Close</th>\n",
       "      <th>Volume</th>\n",
       "      <th>Adj Close</th>\n",
       "    </tr>\n",
       "    <tr>\n",
       "      <th>Date</th>\n",
       "      <th></th>\n",
       "      <th></th>\n",
       "      <th></th>\n",
       "      <th></th>\n",
       "      <th></th>\n",
       "      <th></th>\n",
       "    </tr>\n",
       "  </thead>\n",
       "  <tbody>\n",
       "    <tr>\n",
       "      <th>2017-12-29</th>\n",
       "      <td>24.200001</td>\n",
       "      <td>23.608667</td>\n",
       "      <td>23.798668</td>\n",
       "      <td>23.976667</td>\n",
       "      <td>296871000.0</td>\n",
       "      <td>23.976667</td>\n",
       "    </tr>\n",
       "    <tr>\n",
       "      <th>2018-12-31</th>\n",
       "      <td>25.830667</td>\n",
       "      <td>24.474667</td>\n",
       "      <td>25.000000</td>\n",
       "      <td>25.304667</td>\n",
       "      <td>504745500.0</td>\n",
       "      <td>25.304667</td>\n",
       "    </tr>\n",
       "    <tr>\n",
       "      <th>2019-12-31</th>\n",
       "      <td>29.020666</td>\n",
       "      <td>28.423332</td>\n",
       "      <td>29.000000</td>\n",
       "      <td>28.729334</td>\n",
       "      <td>450091500.0</td>\n",
       "      <td>28.729334</td>\n",
       "    </tr>\n",
       "    <tr>\n",
       "      <th>2020-12-31</th>\n",
       "      <td>239.573334</td>\n",
       "      <td>230.373337</td>\n",
       "      <td>233.330002</td>\n",
       "      <td>235.223328</td>\n",
       "      <td>914082000.0</td>\n",
       "      <td>235.223328</td>\n",
       "    </tr>\n",
       "    <tr>\n",
       "      <th>2021-12-31</th>\n",
       "      <td>414.496674</td>\n",
       "      <td>405.666656</td>\n",
       "      <td>411.470001</td>\n",
       "      <td>409.970001</td>\n",
       "      <td>268189500.0</td>\n",
       "      <td>409.970001</td>\n",
       "    </tr>\n",
       "    <tr>\n",
       "      <th>2022-12-30</th>\n",
       "      <td>402.666656</td>\n",
       "      <td>378.679993</td>\n",
       "      <td>396.516663</td>\n",
       "      <td>399.926666</td>\n",
       "      <td>151565700.0</td>\n",
       "      <td>399.926666</td>\n",
       "    </tr>\n",
       "  </tbody>\n",
       "</table>\n",
       "</div>"
      ],
      "text/plain": [
       "                  High         Low        Open       Close       Volume  \\\n",
       "Date                                                                      \n",
       "2017-12-29   24.200001   23.608667   23.798668   23.976667  296871000.0   \n",
       "2018-12-31   25.830667   24.474667   25.000000   25.304667  504745500.0   \n",
       "2019-12-31   29.020666   28.423332   29.000000   28.729334  450091500.0   \n",
       "2020-12-31  239.573334  230.373337  233.330002  235.223328  914082000.0   \n",
       "2021-12-31  414.496674  405.666656  411.470001  409.970001  268189500.0   \n",
       "2022-12-30  402.666656  378.679993  396.516663  399.926666  151565700.0   \n",
       "\n",
       "             Adj Close  \n",
       "Date                    \n",
       "2017-12-29   23.976667  \n",
       "2018-12-31   25.304667  \n",
       "2019-12-31   28.729334  \n",
       "2020-12-31  235.223328  \n",
       "2021-12-31  409.970001  \n",
       "2022-12-30  399.926666  "
      ]
     },
     "execution_count": 34,
     "metadata": {},
     "output_type": "execute_result"
    }
   ],
   "source": [
    "##Business End Frequency\n",
    "##https://towardsdatascience.com/resample-function-of-pandas-79b17ec82a78\n",
    "df_tesla.resample(rule='BA').max()"
   ]
  },
  {
   "cell_type": "code",
   "execution_count": 35,
   "id": "08c3a2ab",
   "metadata": {},
   "outputs": [
    {
     "data": {
      "text/html": [
       "<div>\n",
       "<style scoped>\n",
       "    .dataframe tbody tr th:only-of-type {\n",
       "        vertical-align: middle;\n",
       "    }\n",
       "\n",
       "    .dataframe tbody tr th {\n",
       "        vertical-align: top;\n",
       "    }\n",
       "\n",
       "    .dataframe thead th {\n",
       "        text-align: right;\n",
       "    }\n",
       "</style>\n",
       "<table border=\"1\" class=\"dataframe\">\n",
       "  <thead>\n",
       "    <tr style=\"text-align: right;\">\n",
       "      <th></th>\n",
       "      <th>High</th>\n",
       "      <th>Low</th>\n",
       "      <th>Open</th>\n",
       "      <th>Close</th>\n",
       "      <th>Volume</th>\n",
       "      <th>Adj Close</th>\n",
       "    </tr>\n",
       "    <tr>\n",
       "      <th>Date</th>\n",
       "      <th></th>\n",
       "      <th></th>\n",
       "      <th></th>\n",
       "      <th></th>\n",
       "      <th></th>\n",
       "      <th></th>\n",
       "    </tr>\n",
       "  </thead>\n",
       "  <tbody>\n",
       "    <tr>\n",
       "      <th>2017-10-02</th>\n",
       "      <td>24.200001</td>\n",
       "      <td>23.608667</td>\n",
       "      <td>23.798668</td>\n",
       "      <td>23.976667</td>\n",
       "      <td>296871000.0</td>\n",
       "      <td>23.976667</td>\n",
       "    </tr>\n",
       "    <tr>\n",
       "      <th>2018-01-01</th>\n",
       "      <td>24.033333</td>\n",
       "      <td>23.490667</td>\n",
       "      <td>24.000000</td>\n",
       "      <td>23.827999</td>\n",
       "      <td>315021000.0</td>\n",
       "      <td>23.827999</td>\n",
       "    </tr>\n",
       "    <tr>\n",
       "      <th>2018-04-02</th>\n",
       "      <td>24.915333</td>\n",
       "      <td>23.633333</td>\n",
       "      <td>24.344000</td>\n",
       "      <td>24.722000</td>\n",
       "      <td>335211000.0</td>\n",
       "      <td>24.722000</td>\n",
       "    </tr>\n",
       "    <tr>\n",
       "      <th>2018-07-02</th>\n",
       "      <td>25.830667</td>\n",
       "      <td>24.474667</td>\n",
       "      <td>24.606001</td>\n",
       "      <td>25.304667</td>\n",
       "      <td>504745500.0</td>\n",
       "      <td>25.304667</td>\n",
       "    </tr>\n",
       "    <tr>\n",
       "      <th>2018-10-01</th>\n",
       "      <td>25.299334</td>\n",
       "      <td>24.450001</td>\n",
       "      <td>25.000000</td>\n",
       "      <td>25.119333</td>\n",
       "      <td>411382500.0</td>\n",
       "      <td>25.119333</td>\n",
       "    </tr>\n",
       "    <tr>\n",
       "      <th>2019-01-01</th>\n",
       "      <td>23.466667</td>\n",
       "      <td>22.943333</td>\n",
       "      <td>23.080667</td>\n",
       "      <td>23.153999</td>\n",
       "      <td>362262000.0</td>\n",
       "      <td>23.153999</td>\n",
       "    </tr>\n",
       "    <tr>\n",
       "      <th>2019-04-01</th>\n",
       "      <td>19.744667</td>\n",
       "      <td>19.144667</td>\n",
       "      <td>19.219999</td>\n",
       "      <td>19.454000</td>\n",
       "      <td>398206500.0</td>\n",
       "      <td>19.454000</td>\n",
       "    </tr>\n",
       "    <tr>\n",
       "      <th>2019-07-01</th>\n",
       "      <td>17.738001</td>\n",
       "      <td>17.210667</td>\n",
       "      <td>17.278000</td>\n",
       "      <td>17.658667</td>\n",
       "      <td>336274500.0</td>\n",
       "      <td>17.658667</td>\n",
       "    </tr>\n",
       "    <tr>\n",
       "      <th>2019-10-01</th>\n",
       "      <td>29.020666</td>\n",
       "      <td>28.423332</td>\n",
       "      <td>29.000000</td>\n",
       "      <td>28.729334</td>\n",
       "      <td>450091500.0</td>\n",
       "      <td>28.729334</td>\n",
       "    </tr>\n",
       "    <tr>\n",
       "      <th>2020-01-01</th>\n",
       "      <td>64.599335</td>\n",
       "      <td>60.068001</td>\n",
       "      <td>61.566666</td>\n",
       "      <td>61.161331</td>\n",
       "      <td>914082000.0</td>\n",
       "      <td>61.161331</td>\n",
       "    </tr>\n",
       "    <tr>\n",
       "      <th>2020-04-01</th>\n",
       "      <td>72.512665</td>\n",
       "      <td>66.915337</td>\n",
       "      <td>67.518669</td>\n",
       "      <td>71.987335</td>\n",
       "      <td>487977000.0</td>\n",
       "      <td>71.987335</td>\n",
       "    </tr>\n",
       "    <tr>\n",
       "      <th>2020-07-01</th>\n",
       "      <td>167.496674</td>\n",
       "      <td>156.836670</td>\n",
       "      <td>167.380005</td>\n",
       "      <td>166.106674</td>\n",
       "      <td>584781000.0</td>\n",
       "      <td>166.106674</td>\n",
       "    </tr>\n",
       "    <tr>\n",
       "      <th>2020-10-01</th>\n",
       "      <td>239.573334</td>\n",
       "      <td>230.373337</td>\n",
       "      <td>233.330002</td>\n",
       "      <td>235.223328</td>\n",
       "      <td>666378600.0</td>\n",
       "      <td>235.223328</td>\n",
       "    </tr>\n",
       "    <tr>\n",
       "      <th>2021-01-01</th>\n",
       "      <td>300.133331</td>\n",
       "      <td>290.533325</td>\n",
       "      <td>297.126678</td>\n",
       "      <td>294.363342</td>\n",
       "      <td>268189500.0</td>\n",
       "      <td>294.363342</td>\n",
       "    </tr>\n",
       "    <tr>\n",
       "      <th>2021-04-01</th>\n",
       "      <td>260.263336</td>\n",
       "      <td>244.203339</td>\n",
       "      <td>256.899994</td>\n",
       "      <td>254.106674</td>\n",
       "      <td>147052200.0</td>\n",
       "      <td>254.106674</td>\n",
       "    </tr>\n",
       "    <tr>\n",
       "      <th>2021-07-01</th>\n",
       "      <td>266.333344</td>\n",
       "      <td>258.333344</td>\n",
       "      <td>262.399994</td>\n",
       "      <td>263.786682</td>\n",
       "      <td>100847400.0</td>\n",
       "      <td>263.786682</td>\n",
       "    </tr>\n",
       "    <tr>\n",
       "      <th>2021-10-01</th>\n",
       "      <td>414.496674</td>\n",
       "      <td>405.666656</td>\n",
       "      <td>411.470001</td>\n",
       "      <td>409.970001</td>\n",
       "      <td>188556300.0</td>\n",
       "      <td>409.970001</td>\n",
       "    </tr>\n",
       "    <tr>\n",
       "      <th>2022-01-03</th>\n",
       "      <td>402.666656</td>\n",
       "      <td>378.679993</td>\n",
       "      <td>396.516663</td>\n",
       "      <td>399.926666</td>\n",
       "      <td>151565700.0</td>\n",
       "      <td>399.926666</td>\n",
       "    </tr>\n",
       "    <tr>\n",
       "      <th>2022-04-01</th>\n",
       "      <td>384.290009</td>\n",
       "      <td>362.433319</td>\n",
       "      <td>378.766663</td>\n",
       "      <td>381.816681</td>\n",
       "      <td>144973200.0</td>\n",
       "      <td>381.816681</td>\n",
       "    </tr>\n",
       "    <tr>\n",
       "      <th>2022-07-01</th>\n",
       "      <td>314.666656</td>\n",
       "      <td>305.579987</td>\n",
       "      <td>311.666656</td>\n",
       "      <td>309.320007</td>\n",
       "      <td>142032300.0</td>\n",
       "      <td>309.320007</td>\n",
       "    </tr>\n",
       "    <tr>\n",
       "      <th>2022-10-03</th>\n",
       "      <td>257.500000</td>\n",
       "      <td>242.009995</td>\n",
       "      <td>254.500000</td>\n",
       "      <td>249.440002</td>\n",
       "      <td>109344200.0</td>\n",
       "      <td>249.440002</td>\n",
       "    </tr>\n",
       "  </tbody>\n",
       "</table>\n",
       "</div>"
      ],
      "text/plain": [
       "                  High         Low        Open       Close       Volume  \\\n",
       "Date                                                                      \n",
       "2017-10-02   24.200001   23.608667   23.798668   23.976667  296871000.0   \n",
       "2018-01-01   24.033333   23.490667   24.000000   23.827999  315021000.0   \n",
       "2018-04-02   24.915333   23.633333   24.344000   24.722000  335211000.0   \n",
       "2018-07-02   25.830667   24.474667   24.606001   25.304667  504745500.0   \n",
       "2018-10-01   25.299334   24.450001   25.000000   25.119333  411382500.0   \n",
       "2019-01-01   23.466667   22.943333   23.080667   23.153999  362262000.0   \n",
       "2019-04-01   19.744667   19.144667   19.219999   19.454000  398206500.0   \n",
       "2019-07-01   17.738001   17.210667   17.278000   17.658667  336274500.0   \n",
       "2019-10-01   29.020666   28.423332   29.000000   28.729334  450091500.0   \n",
       "2020-01-01   64.599335   60.068001   61.566666   61.161331  914082000.0   \n",
       "2020-04-01   72.512665   66.915337   67.518669   71.987335  487977000.0   \n",
       "2020-07-01  167.496674  156.836670  167.380005  166.106674  584781000.0   \n",
       "2020-10-01  239.573334  230.373337  233.330002  235.223328  666378600.0   \n",
       "2021-01-01  300.133331  290.533325  297.126678  294.363342  268189500.0   \n",
       "2021-04-01  260.263336  244.203339  256.899994  254.106674  147052200.0   \n",
       "2021-07-01  266.333344  258.333344  262.399994  263.786682  100847400.0   \n",
       "2021-10-01  414.496674  405.666656  411.470001  409.970001  188556300.0   \n",
       "2022-01-03  402.666656  378.679993  396.516663  399.926666  151565700.0   \n",
       "2022-04-01  384.290009  362.433319  378.766663  381.816681  144973200.0   \n",
       "2022-07-01  314.666656  305.579987  311.666656  309.320007  142032300.0   \n",
       "2022-10-03  257.500000  242.009995  254.500000  249.440002  109344200.0   \n",
       "\n",
       "             Adj Close  \n",
       "Date                    \n",
       "2017-10-02   23.976667  \n",
       "2018-01-01   23.827999  \n",
       "2018-04-02   24.722000  \n",
       "2018-07-02   25.304667  \n",
       "2018-10-01   25.119333  \n",
       "2019-01-01   23.153999  \n",
       "2019-04-01   19.454000  \n",
       "2019-07-01   17.658667  \n",
       "2019-10-01   28.729334  \n",
       "2020-01-01   61.161331  \n",
       "2020-04-01   71.987335  \n",
       "2020-07-01  166.106674  \n",
       "2020-10-01  235.223328  \n",
       "2021-01-01  294.363342  \n",
       "2021-04-01  254.106674  \n",
       "2021-07-01  263.786682  \n",
       "2021-10-01  409.970001  \n",
       "2022-01-03  399.926666  \n",
       "2022-04-01  381.816681  \n",
       "2022-07-01  309.320007  \n",
       "2022-10-03  249.440002  "
      ]
     },
     "execution_count": 35,
     "metadata": {},
     "output_type": "execute_result"
    }
   ],
   "source": [
    "df_tesla.resample(rule='BQS').max()"
   ]
  },
  {
   "cell_type": "code",
   "execution_count": 36,
   "id": "7a3faeb6",
   "metadata": {},
   "outputs": [
    {
     "data": {
      "text/plain": [
       "<AxesSubplot:xlabel='Date'>"
      ]
     },
     "execution_count": 36,
     "metadata": {},
     "output_type": "execute_result"
    },
    {
     "data": {
      "image/png": "[encoded data removed]",
      "text/plain": [
       "<Figure size 432x288 with 1 Axes>"
      ]
     },
     "metadata": {
      "needs_background": "light"
     },
     "output_type": "display_data"
    }
   ],
   "source": [
    "##plotting\n",
    "df_tesla['Open'].resample(rule='A').mean().plot(kind='bar')"
   ]
  },
  {
   "cell_type": "code",
   "execution_count": 37,
   "id": "a235aa94",
   "metadata": {},
   "outputs": [
    {
     "data": {
      "text/plain": [
       "<AxesSubplot:xlabel='Date'>"
      ]
     },
     "execution_count": 37,
     "metadata": {},
     "output_type": "execute_result"
    },
    {
     "data": {
      "image/png": "[encoded data removed]",
      "text/plain": [
       "<Figure size 1080x432 with 1 Axes>"
      ]
     },
     "metadata": {
      "needs_background": "light"
     },
     "output_type": "display_data"
    }
   ],
   "source": [
    "df_tesla['Open'].resample(rule='M').max().plot(kind='bar',figsize=(15,6))"
   ]
  },
  {
   "cell_type": "code",
   "execution_count": 38,
   "id": "0cfeacbd",
   "metadata": {},
   "outputs": [
    {
     "data": {
      "text/plain": [
       "Date\n",
       "2017-10-05          NaN\n",
       "2017-10-06          NaN\n",
       "2017-10-09          NaN\n",
       "2017-10-10          NaN\n",
       "2017-10-11          NaN\n",
       "2017-10-12          NaN\n",
       "2017-10-13          NaN\n",
       "2017-10-16          NaN\n",
       "2017-10-17          NaN\n",
       "2017-10-18          NaN\n",
       "2017-10-19    24.200001\n",
       "2017-10-20    24.200001\n",
       "2017-10-23    24.200001\n",
       "2017-10-24    24.200001\n",
       "2017-10-25    24.200001\n",
       "2017-10-26    24.200001\n",
       "2017-10-27    24.200001\n",
       "2017-10-30    24.200001\n",
       "2017-10-31    24.200001\n",
       "2017-11-01    24.200001\n",
       "Name: High, dtype: float64"
      ]
     },
     "execution_count": 38,
     "metadata": {},
     "output_type": "execute_result"
    }
   ],
   "source": [
    "df_tesla['High'].rolling(11).max().head(20)"
   ]
  },
  {
   "cell_type": "code",
   "execution_count": 39,
   "id": "0b68451b",
   "metadata": {},
   "outputs": [
    {
     "data": {
      "text/html": [
       "<div>\n",
       "<style scoped>\n",
       "    .dataframe tbody tr th:only-of-type {\n",
       "        vertical-align: middle;\n",
       "    }\n",
       "\n",
       "    .dataframe tbody tr th {\n",
       "        vertical-align: top;\n",
       "    }\n",
       "\n",
       "    .dataframe thead th {\n",
       "        text-align: right;\n",
       "    }\n",
       "</style>\n",
       "<table border=\"1\" class=\"dataframe\">\n",
       "  <thead>\n",
       "    <tr style=\"text-align: right;\">\n",
       "      <th></th>\n",
       "      <th>High</th>\n",
       "      <th>Low</th>\n",
       "      <th>Open</th>\n",
       "      <th>Close</th>\n",
       "      <th>Volume</th>\n",
       "      <th>Adj Close</th>\n",
       "    </tr>\n",
       "    <tr>\n",
       "      <th>Date</th>\n",
       "      <th></th>\n",
       "      <th></th>\n",
       "      <th></th>\n",
       "      <th></th>\n",
       "      <th></th>\n",
       "      <th></th>\n",
       "    </tr>\n",
       "  </thead>\n",
       "  <tbody>\n",
       "    <tr>\n",
       "      <th>2017-10-05</th>\n",
       "      <td>23.829332</td>\n",
       "      <td>23.423332</td>\n",
       "      <td>23.733334</td>\n",
       "      <td>23.688667</td>\n",
       "      <td>62575500.0</td>\n",
       "      <td>23.688667</td>\n",
       "    </tr>\n",
       "    <tr>\n",
       "      <th>2017-10-06</th>\n",
       "      <td>24.006666</td>\n",
       "      <td>23.483334</td>\n",
       "      <td>23.540001</td>\n",
       "      <td>23.792000</td>\n",
       "      <td>64462500.0</td>\n",
       "      <td>23.792000</td>\n",
       "    </tr>\n",
       "    <tr>\n",
       "      <th>2017-10-09</th>\n",
       "      <td>23.450001</td>\n",
       "      <td>22.844667</td>\n",
       "      <td>23.309999</td>\n",
       "      <td>22.862667</td>\n",
       "      <td>112405500.0</td>\n",
       "      <td>22.862667</td>\n",
       "    </tr>\n",
       "    <tr>\n",
       "      <th>2017-10-10</th>\n",
       "      <td>23.708668</td>\n",
       "      <td>23.035334</td>\n",
       "      <td>23.120001</td>\n",
       "      <td>23.705999</td>\n",
       "      <td>104677500.0</td>\n",
       "      <td>23.705999</td>\n",
       "    </tr>\n",
       "    <tr>\n",
       "      <th>2017-10-11</th>\n",
       "      <td>23.840000</td>\n",
       "      <td>23.410000</td>\n",
       "      <td>23.592667</td>\n",
       "      <td>23.639999</td>\n",
       "      <td>67512000.0</td>\n",
       "      <td>23.639999</td>\n",
       "    </tr>\n",
       "  </tbody>\n",
       "</table>\n",
       "</div>"
      ],
      "text/plain": [
       "                 High        Low       Open      Close       Volume  Adj Close\n",
       "Date                                                                          \n",
       "2017-10-05  23.829332  23.423332  23.733334  23.688667   62575500.0  23.688667\n",
       "2017-10-06  24.006666  23.483334  23.540001  23.792000   64462500.0  23.792000\n",
       "2017-10-09  23.450001  22.844667  23.309999  22.862667  112405500.0  22.862667\n",
       "2017-10-10  23.708668  23.035334  23.120001  23.705999  104677500.0  23.705999\n",
       "2017-10-11  23.840000  23.410000  23.592667  23.639999   67512000.0  23.639999"
      ]
     },
     "execution_count": 39,
     "metadata": {},
     "output_type": "execute_result"
    }
   ],
   "source": [
    "df_tesla.head()"
   ]
  },
  {
   "cell_type": "code",
   "execution_count": 40,
   "id": "579b0511",
   "metadata": {},
   "outputs": [],
   "source": [
    "df_tesla['Open:30 days rolling']=df_tesla['Open'].rolling(30).mean()"
   ]
  },
  {
   "cell_type": "code",
   "execution_count": 41,
   "id": "2d194785",
   "metadata": {},
   "outputs": [
    {
     "data": {
      "text/html": [
       "<div>\n",
       "<style scoped>\n",
       "    .dataframe tbody tr th:only-of-type {\n",
       "        vertical-align: middle;\n",
       "    }\n",
       "\n",
       "    .dataframe tbody tr th {\n",
       "        vertical-align: top;\n",
       "    }\n",
       "\n",
       "    .dataframe thead th {\n",
       "        text-align: right;\n",
       "    }\n",
       "</style>\n",
       "<table border=\"1\" class=\"dataframe\">\n",
       "  <thead>\n",
       "    <tr style=\"text-align: right;\">\n",
       "      <th></th>\n",
       "      <th>High</th>\n",
       "      <th>Low</th>\n",
       "      <th>Open</th>\n",
       "      <th>Close</th>\n",
       "      <th>Volume</th>\n",
       "      <th>Adj Close</th>\n",
       "      <th>Open:30 days rolling</th>\n",
       "    </tr>\n",
       "    <tr>\n",
       "      <th>Date</th>\n",
       "      <th></th>\n",
       "      <th></th>\n",
       "      <th></th>\n",
       "      <th></th>\n",
       "      <th></th>\n",
       "      <th></th>\n",
       "      <th></th>\n",
       "    </tr>\n",
       "  </thead>\n",
       "  <tbody>\n",
       "    <tr>\n",
       "      <th>2017-10-05</th>\n",
       "      <td>23.829332</td>\n",
       "      <td>23.423332</td>\n",
       "      <td>23.733334</td>\n",
       "      <td>23.688667</td>\n",
       "      <td>62575500.0</td>\n",
       "      <td>23.688667</td>\n",
       "      <td>NaN</td>\n",
       "    </tr>\n",
       "    <tr>\n",
       "      <th>2017-10-06</th>\n",
       "      <td>24.006666</td>\n",
       "      <td>23.483334</td>\n",
       "      <td>23.540001</td>\n",
       "      <td>23.792000</td>\n",
       "      <td>64462500.0</td>\n",
       "      <td>23.792000</td>\n",
       "      <td>NaN</td>\n",
       "    </tr>\n",
       "    <tr>\n",
       "      <th>2017-10-09</th>\n",
       "      <td>23.450001</td>\n",
       "      <td>22.844667</td>\n",
       "      <td>23.309999</td>\n",
       "      <td>22.862667</td>\n",
       "      <td>112405500.0</td>\n",
       "      <td>22.862667</td>\n",
       "      <td>NaN</td>\n",
       "    </tr>\n",
       "    <tr>\n",
       "      <th>2017-10-10</th>\n",
       "      <td>23.708668</td>\n",
       "      <td>23.035334</td>\n",
       "      <td>23.120001</td>\n",
       "      <td>23.705999</td>\n",
       "      <td>104677500.0</td>\n",
       "      <td>23.705999</td>\n",
       "      <td>NaN</td>\n",
       "    </tr>\n",
       "    <tr>\n",
       "      <th>2017-10-11</th>\n",
       "      <td>23.840000</td>\n",
       "      <td>23.410000</td>\n",
       "      <td>23.592667</td>\n",
       "      <td>23.639999</td>\n",
       "      <td>67512000.0</td>\n",
       "      <td>23.639999</td>\n",
       "      <td>NaN</td>\n",
       "    </tr>\n",
       "    <tr>\n",
       "      <th>2017-10-12</th>\n",
       "      <td>23.985332</td>\n",
       "      <td>23.509333</td>\n",
       "      <td>23.530001</td>\n",
       "      <td>23.712000</td>\n",
       "      <td>61305000.0</td>\n",
       "      <td>23.712000</td>\n",
       "      <td>NaN</td>\n",
       "    </tr>\n",
       "    <tr>\n",
       "      <th>2017-10-13</th>\n",
       "      <td>23.899332</td>\n",
       "      <td>23.578667</td>\n",
       "      <td>23.798668</td>\n",
       "      <td>23.704666</td>\n",
       "      <td>53107500.0</td>\n",
       "      <td>23.704666</td>\n",
       "      <td>NaN</td>\n",
       "    </tr>\n",
       "    <tr>\n",
       "      <th>2017-10-16</th>\n",
       "      <td>23.632000</td>\n",
       "      <td>23.143999</td>\n",
       "      <td>23.584000</td>\n",
       "      <td>23.373333</td>\n",
       "      <td>80632500.0</td>\n",
       "      <td>23.373333</td>\n",
       "      <td>NaN</td>\n",
       "    </tr>\n",
       "    <tr>\n",
       "      <th>2017-10-17</th>\n",
       "      <td>23.747999</td>\n",
       "      <td>23.337999</td>\n",
       "      <td>23.393999</td>\n",
       "      <td>23.716667</td>\n",
       "      <td>49399500.0</td>\n",
       "      <td>23.716667</td>\n",
       "      <td>NaN</td>\n",
       "    </tr>\n",
       "    <tr>\n",
       "      <th>2017-10-18</th>\n",
       "      <td>24.200001</td>\n",
       "      <td>23.608667</td>\n",
       "      <td>23.731333</td>\n",
       "      <td>23.976667</td>\n",
       "      <td>74086500.0</td>\n",
       "      <td>23.976667</td>\n",
       "      <td>NaN</td>\n",
       "    </tr>\n",
       "    <tr>\n",
       "      <th>2017-10-19</th>\n",
       "      <td>23.809999</td>\n",
       "      <td>23.213333</td>\n",
       "      <td>23.704000</td>\n",
       "      <td>23.454000</td>\n",
       "      <td>75927000.0</td>\n",
       "      <td>23.454000</td>\n",
       "      <td>NaN</td>\n",
       "    </tr>\n",
       "    <tr>\n",
       "      <th>2017-10-20</th>\n",
       "      <td>23.636667</td>\n",
       "      <td>22.955999</td>\n",
       "      <td>23.512667</td>\n",
       "      <td>23.006666</td>\n",
       "      <td>73956000.0</td>\n",
       "      <td>23.006666</td>\n",
       "      <td>NaN</td>\n",
       "    </tr>\n",
       "    <tr>\n",
       "      <th>2017-10-23</th>\n",
       "      <td>23.330000</td>\n",
       "      <td>22.416668</td>\n",
       "      <td>23.325333</td>\n",
       "      <td>22.468000</td>\n",
       "      <td>86209500.0</td>\n",
       "      <td>22.468000</td>\n",
       "      <td>NaN</td>\n",
       "    </tr>\n",
       "    <tr>\n",
       "      <th>2017-10-24</th>\n",
       "      <td>22.853333</td>\n",
       "      <td>22.410667</td>\n",
       "      <td>22.586666</td>\n",
       "      <td>22.489332</td>\n",
       "      <td>67375500.0</td>\n",
       "      <td>22.489332</td>\n",
       "      <td>NaN</td>\n",
       "    </tr>\n",
       "    <tr>\n",
       "      <th>2017-10-25</th>\n",
       "      <td>22.500000</td>\n",
       "      <td>21.570667</td>\n",
       "      <td>22.446667</td>\n",
       "      <td>21.722668</td>\n",
       "      <td>128911500.0</td>\n",
       "      <td>21.722668</td>\n",
       "      <td>NaN</td>\n",
       "    </tr>\n",
       "    <tr>\n",
       "      <th>2017-10-26</th>\n",
       "      <td>22.015333</td>\n",
       "      <td>21.546667</td>\n",
       "      <td>21.851999</td>\n",
       "      <td>21.744667</td>\n",
       "      <td>75352500.0</td>\n",
       "      <td>21.744667</td>\n",
       "      <td>NaN</td>\n",
       "    </tr>\n",
       "    <tr>\n",
       "      <th>2017-10-27</th>\n",
       "      <td>21.639334</td>\n",
       "      <td>21.110666</td>\n",
       "      <td>21.316668</td>\n",
       "      <td>21.391333</td>\n",
       "      <td>104695500.0</td>\n",
       "      <td>21.391333</td>\n",
       "      <td>NaN</td>\n",
       "    </tr>\n",
       "    <tr>\n",
       "      <th>2017-10-30</th>\n",
       "      <td>21.585333</td>\n",
       "      <td>21.150000</td>\n",
       "      <td>21.278667</td>\n",
       "      <td>21.338667</td>\n",
       "      <td>63816000.0</td>\n",
       "      <td>21.338667</td>\n",
       "      <td>NaN</td>\n",
       "    </tr>\n",
       "    <tr>\n",
       "      <th>2017-10-31</th>\n",
       "      <td>22.129999</td>\n",
       "      <td>21.345333</td>\n",
       "      <td>21.348667</td>\n",
       "      <td>22.101999</td>\n",
       "      <td>85084500.0</td>\n",
       "      <td>22.101999</td>\n",
       "      <td>NaN</td>\n",
       "    </tr>\n",
       "    <tr>\n",
       "      <th>2017-11-01</th>\n",
       "      <td>22.174000</td>\n",
       "      <td>21.350668</td>\n",
       "      <td>22.150000</td>\n",
       "      <td>21.405333</td>\n",
       "      <td>126859500.0</td>\n",
       "      <td>21.405333</td>\n",
       "      <td>NaN</td>\n",
       "    </tr>\n",
       "    <tr>\n",
       "      <th>2017-11-02</th>\n",
       "      <td>20.579332</td>\n",
       "      <td>19.508667</td>\n",
       "      <td>20.008667</td>\n",
       "      <td>19.950666</td>\n",
       "      <td>296871000.0</td>\n",
       "      <td>19.950666</td>\n",
       "      <td>NaN</td>\n",
       "    </tr>\n",
       "    <tr>\n",
       "      <th>2017-11-03</th>\n",
       "      <td>20.416668</td>\n",
       "      <td>19.675333</td>\n",
       "      <td>19.966667</td>\n",
       "      <td>20.406000</td>\n",
       "      <td>133410000.0</td>\n",
       "      <td>20.406000</td>\n",
       "      <td>NaN</td>\n",
       "    </tr>\n",
       "    <tr>\n",
       "      <th>2017-11-06</th>\n",
       "      <td>20.500000</td>\n",
       "      <td>19.934000</td>\n",
       "      <td>20.466667</td>\n",
       "      <td>20.185333</td>\n",
       "      <td>97290000.0</td>\n",
       "      <td>20.185333</td>\n",
       "      <td>NaN</td>\n",
       "    </tr>\n",
       "    <tr>\n",
       "      <th>2017-11-07</th>\n",
       "      <td>20.433332</td>\n",
       "      <td>20.002001</td>\n",
       "      <td>20.068001</td>\n",
       "      <td>20.403334</td>\n",
       "      <td>79414500.0</td>\n",
       "      <td>20.403334</td>\n",
       "      <td>NaN</td>\n",
       "    </tr>\n",
       "    <tr>\n",
       "      <th>2017-11-08</th>\n",
       "      <td>20.459333</td>\n",
       "      <td>20.086666</td>\n",
       "      <td>20.366667</td>\n",
       "      <td>20.292667</td>\n",
       "      <td>70879500.0</td>\n",
       "      <td>20.292667</td>\n",
       "      <td>NaN</td>\n",
       "    </tr>\n",
       "    <tr>\n",
       "      <th>2017-11-09</th>\n",
       "      <td>20.297333</td>\n",
       "      <td>19.753332</td>\n",
       "      <td>20.166668</td>\n",
       "      <td>20.199333</td>\n",
       "      <td>81706500.0</td>\n",
       "      <td>20.199333</td>\n",
       "      <td>NaN</td>\n",
       "    </tr>\n",
       "    <tr>\n",
       "      <th>2017-11-10</th>\n",
       "      <td>20.557333</td>\n",
       "      <td>20.123333</td>\n",
       "      <td>20.166668</td>\n",
       "      <td>20.199333</td>\n",
       "      <td>69381000.0</td>\n",
       "      <td>20.199333</td>\n",
       "      <td>NaN</td>\n",
       "    </tr>\n",
       "    <tr>\n",
       "      <th>2017-11-13</th>\n",
       "      <td>21.120001</td>\n",
       "      <td>19.940666</td>\n",
       "      <td>20.008667</td>\n",
       "      <td>21.026667</td>\n",
       "      <td>113773500.0</td>\n",
       "      <td>21.026667</td>\n",
       "      <td>NaN</td>\n",
       "    </tr>\n",
       "    <tr>\n",
       "      <th>2017-11-14</th>\n",
       "      <td>21.090000</td>\n",
       "      <td>20.459999</td>\n",
       "      <td>21.000000</td>\n",
       "      <td>20.580000</td>\n",
       "      <td>85141500.0</td>\n",
       "      <td>20.580000</td>\n",
       "      <td>NaN</td>\n",
       "    </tr>\n",
       "    <tr>\n",
       "      <th>2017-11-15</th>\n",
       "      <td>20.832666</td>\n",
       "      <td>20.100000</td>\n",
       "      <td>20.400667</td>\n",
       "      <td>20.753332</td>\n",
       "      <td>89680500.0</td>\n",
       "      <td>20.753332</td>\n",
       "      <td>22.049156</td>\n",
       "    </tr>\n",
       "    <tr>\n",
       "      <th>2017-11-16</th>\n",
       "      <td>21.209333</td>\n",
       "      <td>20.753332</td>\n",
       "      <td>20.932667</td>\n",
       "      <td>20.833332</td>\n",
       "      <td>87331500.0</td>\n",
       "      <td>20.833332</td>\n",
       "      <td>21.955800</td>\n",
       "    </tr>\n",
       "  </tbody>\n",
       "</table>\n",
       "</div>"
      ],
      "text/plain": [
       "                 High        Low       Open      Close       Volume  \\\n",
       "Date                                                                  \n",
       "2017-10-05  23.829332  23.423332  23.733334  23.688667   62575500.0   \n",
       "2017-10-06  24.006666  23.483334  23.540001  23.792000   64462500.0   \n",
       "2017-10-09  23.450001  22.844667  23.309999  22.862667  112405500.0   \n",
       "2017-10-10  23.708668  23.035334  23.120001  23.705999  104677500.0   \n",
       "2017-10-11  23.840000  23.410000  23.592667  23.639999   67512000.0   \n",
       "2017-10-12  23.985332  23.509333  23.530001  23.712000   61305000.0   \n",
       "2017-10-13  23.899332  23.578667  23.798668  23.704666   53107500.0   \n",
       "2017-10-16  23.632000  23.143999  23.584000  23.373333   80632500.0   \n",
       "2017-10-17  23.747999  23.337999  23.393999  23.716667   49399500.0   \n",
       "2017-10-18  24.200001  23.608667  23.731333  23.976667   74086500.0   \n",
       "2017-10-19  23.809999  23.213333  23.704000  23.454000   75927000.0   \n",
       "2017-10-20  23.636667  22.955999  23.512667  23.006666   73956000.0   \n",
       "2017-10-23  23.330000  22.416668  23.325333  22.468000   86209500.0   \n",
       "2017-10-24  22.853333  22.410667  22.586666  22.489332   67375500.0   \n",
       "2017-10-25  22.500000  21.570667  22.446667  21.722668  128911500.0   \n",
       "2017-10-26  22.015333  21.546667  21.851999  21.744667   75352500.0   \n",
       "2017-10-27  21.639334  21.110666  21.316668  21.391333  104695500.0   \n",
       "2017-10-30  21.585333  21.150000  21.278667  21.338667   63816000.0   \n",
       "2017-10-31  22.129999  21.345333  21.348667  22.101999   85084500.0   \n",
       "2017-11-01  22.174000  21.350668  22.150000  21.405333  126859500.0   \n",
       "2017-11-02  20.579332  19.508667  20.008667  19.950666  296871000.0   \n",
       "2017-11-03  20.416668  19.675333  19.966667  20.406000  133410000.0   \n",
       "2017-11-06  20.500000  19.934000  20.466667  20.185333   97290000.0   \n",
       "2017-11-07  20.433332  20.002001  20.068001  20.403334   79414500.0   \n",
       "2017-11-08  20.459333  20.086666  20.366667  20.292667   70879500.0   \n",
       "2017-11-09  20.297333  19.753332  20.166668  20.199333   81706500.0   \n",
       "2017-11-10  20.557333  20.123333  20.166668  20.199333   69381000.0   \n",
       "2017-11-13  21.120001  19.940666  20.008667  21.026667  113773500.0   \n",
       "2017-11-14  21.090000  20.459999  21.000000  20.580000   85141500.0   \n",
       "2017-11-15  20.832666  20.100000  20.400667  20.753332   89680500.0   \n",
       "2017-11-16  21.209333  20.753332  20.932667  20.833332   87331500.0   \n",
       "\n",
       "            Adj Close  Open:30 days rolling  \n",
       "Date                                         \n",
       "2017-10-05  23.688667                   NaN  \n",
       "2017-10-06  23.792000                   NaN  \n",
       "2017-10-09  22.862667                   NaN  \n",
       "2017-10-10  23.705999                   NaN  \n",
       "2017-10-11  23.639999                   NaN  \n",
       "2017-10-12  23.712000                   NaN  \n",
       "2017-10-13  23.704666                   NaN  \n",
       "2017-10-16  23.373333                   NaN  \n",
       "2017-10-17  23.716667                   NaN  \n",
       "2017-10-18  23.976667                   NaN  \n",
       "2017-10-19  23.454000                   NaN  \n",
       "2017-10-20  23.006666                   NaN  \n",
       "2017-10-23  22.468000                   NaN  \n",
       "2017-10-24  22.489332                   NaN  \n",
       "2017-10-25  21.722668                   NaN  \n",
       "2017-10-26  21.744667                   NaN  \n",
       "2017-10-27  21.391333                   NaN  \n",
       "2017-10-30  21.338667                   NaN  \n",
       "2017-10-31  22.101999                   NaN  \n",
       "2017-11-01  21.405333                   NaN  \n",
       "2017-11-02  19.950666                   NaN  \n",
       "2017-11-03  20.406000                   NaN  \n",
       "2017-11-06  20.185333                   NaN  \n",
       "2017-11-07  20.403334                   NaN  \n",
       "2017-11-08  20.292667                   NaN  \n",
       "2017-11-09  20.199333                   NaN  \n",
       "2017-11-10  20.199333                   NaN  \n",
       "2017-11-13  21.026667                   NaN  \n",
       "2017-11-14  20.580000                   NaN  \n",
       "2017-11-15  20.753332             22.049156  \n",
       "2017-11-16  20.833332             21.955800  "
      ]
     },
     "execution_count": 41,
     "metadata": {},
     "output_type": "execute_result"
    }
   ],
   "source": [
    "df_tesla.head(31)"
   ]
  },
  {
   "cell_type": "code",
   "execution_count": 42,
   "id": "327bd2c0",
   "metadata": {},
   "outputs": [
    {
     "data": {
      "text/plain": [
       "<AxesSubplot:xlabel='Date'>"
      ]
     },
     "execution_count": 42,
     "metadata": {},
     "output_type": "execute_result"
    },
    {
     "data": {
      "image/png": "[encoded data removed]",
      "text/plain": [
       "<Figure size 864x360 with 1 Axes>"
      ]
     },
     "metadata": {
      "needs_background": "light"
     },
     "output_type": "display_data"
    }
   ],
   "source": [
    "df_tesla[['Open','Open:30 days rolling']].plot(figsize=(12,5))"
   ]
  },
  {
   "cell_type": "code",
   "execution_count": null,
   "id": "8e7be484",
   "metadata": {},
   "outputs": [],
   "source": []
  }
 ],
 "metadata": {
  "kernelspec": {
   "display_name": "Python 3 (ipykernel)",
   "language": "python",
   "name": "python3"
  },
  "language_info": {
   "codemirror_mode": {
    "name": "ipython",
    "version": 3
   },
   "file_extension": ".py",
   "mimetype": "text/x-python",
   "name": "python",
   "nbconvert_exporter": "python",
   "pygments_lexer": "ipython3",
   "version": "3.9.12"
  }
 },
 "nbformat": 4,
 "nbformat_minor": 5
}
